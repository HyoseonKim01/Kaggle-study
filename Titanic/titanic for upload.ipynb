{
 "cells": [
  {
   "cell_type": "markdown",
   "id": "d8447ce4",
   "metadata": {},
   "source": [
    "<img src='logo.png'>\n",
    "\n",
    "ref: https://www.kaggle.com/c/titanic\n",
    "\n",
    "타이타닉에 탑승한 사람들의 신상정보를 활용하여, 승선한 사람들의 생존여부를 예측하는 모델을 생성"
   ]
  },
  {
   "cell_type": "code",
   "execution_count": 1,
   "id": "78a57f98",
   "metadata": {},
   "outputs": [],
   "source": [
    "import pandas as pd\n",
    "import numpy as np\n",
    "import matplotlib.pyplot as plt\n",
    "import os\n",
    "from sklearn.preprocessing import LabelEncoder, OneHotEncoder\n",
    "from sklearn.model_selection import train_test_split\n",
    "from sklearn.ensemble import RandomForestClassifier\n",
    "from sklearn.linear_model import LogisticRegression\n",
    "from sklearn.neighbors import KNeighborsClassifier\n",
    "from sklearn.tree import DecisionTreeClassifier\n",
    "from sklearn.svm import LinearSVC\n",
    "from sklearn.metrics import accuracy_score\n",
    "\n",
    "import warnings\n",
    "warnings.filterwarnings(action='ignore') #경고창 없애기\n"
   ]
  },
  {
   "cell_type": "markdown",
   "id": "ad06dfc1",
   "metadata": {},
   "source": [
    "##  1. Data load\n",
    "데이터셋 확인 - 대부분의 캐글 데이터들은 잘 정제되어 있습니다. 하지만 가끔 null data가 존재합니다. 이를 확인하고, 향후 수정합니다."
   ]
  },
  {
   "cell_type": "code",
   "execution_count": 2,
   "id": "9c742723",
   "metadata": {},
   "outputs": [
    {
     "data": {
      "text/plain": [
       "'C:\\\\AI\\\\Python 3.8\\\\venv\\\\comp\\\\titanic'"
      ]
     },
     "execution_count": 2,
     "metadata": {},
     "output_type": "execute_result"
    }
   ],
   "source": [
    "os.getcwd()"
   ]
  },
  {
   "cell_type": "code",
   "execution_count": 3,
   "id": "b1b805a5",
   "metadata": {},
   "outputs": [],
   "source": [
    "train=pd.read_csv(\"./dataset/train.csv\")"
   ]
  },
  {
   "cell_type": "code",
   "execution_count": 4,
   "id": "28b19d5b",
   "metadata": {},
   "outputs": [
    {
     "name": "stdout",
     "output_type": "stream",
     "text": [
      "(891, 12)\n",
      "<class 'pandas.core.frame.DataFrame'>\n",
      "RangeIndex: 891 entries, 0 to 890\n",
      "Data columns (total 12 columns):\n",
      " #   Column       Non-Null Count  Dtype  \n",
      "---  ------       --------------  -----  \n",
      " 0   PassengerId  891 non-null    int64  \n",
      " 1   Survived     891 non-null    int64  \n",
      " 2   Pclass       891 non-null    int64  \n",
      " 3   Name         891 non-null    object \n",
      " 4   Sex          891 non-null    object \n",
      " 5   Age          714 non-null    float64\n",
      " 6   SibSp        891 non-null    int64  \n",
      " 7   Parch        891 non-null    int64  \n",
      " 8   Ticket       891 non-null    object \n",
      " 9   Fare         891 non-null    float64\n",
      " 10  Cabin        204 non-null    object \n",
      " 11  Embarked     889 non-null    object \n",
      "dtypes: float64(2), int64(5), object(5)\n",
      "memory usage: 83.7+ KB\n",
      "None\n"
     ]
    },
    {
     "data": {
      "text/html": [
       "<div>\n",
       "<style scoped>\n",
       "    .dataframe tbody tr th:only-of-type {\n",
       "        vertical-align: middle;\n",
       "    }\n",
       "\n",
       "    .dataframe tbody tr th {\n",
       "        vertical-align: top;\n",
       "    }\n",
       "\n",
       "    .dataframe thead th {\n",
       "        text-align: right;\n",
       "    }\n",
       "</style>\n",
       "<table border=\"1\" class=\"dataframe\">\n",
       "  <thead>\n",
       "    <tr style=\"text-align: right;\">\n",
       "      <th></th>\n",
       "      <th>PassengerId</th>\n",
       "      <th>Survived</th>\n",
       "      <th>Pclass</th>\n",
       "      <th>Name</th>\n",
       "      <th>Sex</th>\n",
       "      <th>Age</th>\n",
       "      <th>SibSp</th>\n",
       "      <th>Parch</th>\n",
       "      <th>Ticket</th>\n",
       "      <th>Fare</th>\n",
       "      <th>Cabin</th>\n",
       "      <th>Embarked</th>\n",
       "    </tr>\n",
       "  </thead>\n",
       "  <tbody>\n",
       "    <tr>\n",
       "      <th>0</th>\n",
       "      <td>1</td>\n",
       "      <td>0</td>\n",
       "      <td>3</td>\n",
       "      <td>Braund, Mr. Owen Harris</td>\n",
       "      <td>male</td>\n",
       "      <td>22.0</td>\n",
       "      <td>1</td>\n",
       "      <td>0</td>\n",
       "      <td>A/5 21171</td>\n",
       "      <td>7.2500</td>\n",
       "      <td>NaN</td>\n",
       "      <td>S</td>\n",
       "    </tr>\n",
       "    <tr>\n",
       "      <th>1</th>\n",
       "      <td>2</td>\n",
       "      <td>1</td>\n",
       "      <td>1</td>\n",
       "      <td>Cumings, Mrs. John Bradley (Florence Briggs Th...</td>\n",
       "      <td>female</td>\n",
       "      <td>38.0</td>\n",
       "      <td>1</td>\n",
       "      <td>0</td>\n",
       "      <td>PC 17599</td>\n",
       "      <td>71.2833</td>\n",
       "      <td>C85</td>\n",
       "      <td>C</td>\n",
       "    </tr>\n",
       "    <tr>\n",
       "      <th>2</th>\n",
       "      <td>3</td>\n",
       "      <td>1</td>\n",
       "      <td>3</td>\n",
       "      <td>Heikkinen, Miss. Laina</td>\n",
       "      <td>female</td>\n",
       "      <td>26.0</td>\n",
       "      <td>0</td>\n",
       "      <td>0</td>\n",
       "      <td>STON/O2. 3101282</td>\n",
       "      <td>7.9250</td>\n",
       "      <td>NaN</td>\n",
       "      <td>S</td>\n",
       "    </tr>\n",
       "    <tr>\n",
       "      <th>3</th>\n",
       "      <td>4</td>\n",
       "      <td>1</td>\n",
       "      <td>1</td>\n",
       "      <td>Futrelle, Mrs. Jacques Heath (Lily May Peel)</td>\n",
       "      <td>female</td>\n",
       "      <td>35.0</td>\n",
       "      <td>1</td>\n",
       "      <td>0</td>\n",
       "      <td>113803</td>\n",
       "      <td>53.1000</td>\n",
       "      <td>C123</td>\n",
       "      <td>S</td>\n",
       "    </tr>\n",
       "    <tr>\n",
       "      <th>4</th>\n",
       "      <td>5</td>\n",
       "      <td>0</td>\n",
       "      <td>3</td>\n",
       "      <td>Allen, Mr. William Henry</td>\n",
       "      <td>male</td>\n",
       "      <td>35.0</td>\n",
       "      <td>0</td>\n",
       "      <td>0</td>\n",
       "      <td>373450</td>\n",
       "      <td>8.0500</td>\n",
       "      <td>NaN</td>\n",
       "      <td>S</td>\n",
       "    </tr>\n",
       "  </tbody>\n",
       "</table>\n",
       "</div>"
      ],
      "text/plain": [
       "   PassengerId  Survived  Pclass  \\\n",
       "0            1         0       3   \n",
       "1            2         1       1   \n",
       "2            3         1       3   \n",
       "3            4         1       1   \n",
       "4            5         0       3   \n",
       "\n",
       "                                                Name     Sex   Age  SibSp  \\\n",
       "0                            Braund, Mr. Owen Harris    male  22.0      1   \n",
       "1  Cumings, Mrs. John Bradley (Florence Briggs Th...  female  38.0      1   \n",
       "2                             Heikkinen, Miss. Laina  female  26.0      0   \n",
       "3       Futrelle, Mrs. Jacques Heath (Lily May Peel)  female  35.0      1   \n",
       "4                           Allen, Mr. William Henry    male  35.0      0   \n",
       "\n",
       "   Parch            Ticket     Fare Cabin Embarked  \n",
       "0      0         A/5 21171   7.2500   NaN        S  \n",
       "1      0          PC 17599  71.2833   C85        C  \n",
       "2      0  STON/O2. 3101282   7.9250   NaN        S  \n",
       "3      0            113803  53.1000  C123        S  \n",
       "4      0            373450   8.0500   NaN        S  "
      ]
     },
     "execution_count": 4,
     "metadata": {},
     "output_type": "execute_result"
    }
   ],
   "source": [
    "print(train.shape)\n",
    "print(train.info())\n",
    "train.head()"
   ]
  },
  {
   "cell_type": "markdown",
   "id": "36442e57",
   "metadata": {},
   "source": [
    "sibSp: 함께 탑승한 부모, 아이의 수 </br>\n",
    "parch: 함께 탑승한 부모, 아이의 수"
   ]
  },
  {
   "cell_type": "markdown",
   "id": "ecaf9cc6",
   "metadata": {},
   "source": [
    "## 2. EDA : 사전 데이터 탐색\n",
    "\n",
    "탐색적 데이터 분석(exploratory data analysis) - 여러 feature 들을 개별적으로 분석하고, feature 들 간의 상관관계를 확인합니다. 여러 시각화 툴을 사용하여 insight를 얻습니다."
   ]
  },
  {
   "cell_type": "markdown",
   "id": "e86dae2c",
   "metadata": {},
   "source": [
    "### Survived: Target Feature\n",
    "target label 이 어떤 distribution 을 가지고 있는 지 확인해봐야 합니다."
   ]
  },
  {
   "cell_type": "code",
   "execution_count": 5,
   "id": "64554f94",
   "metadata": {},
   "outputs": [
    {
     "name": "stdout",
     "output_type": "stream",
     "text": [
      "0    549\n",
      "1    342\n",
      "Name: Survived, dtype: int64 AxesSubplot(0.125,0.125;0.775x0.755)\n"
     ]
    },
    {
     "data": {
      "image/png": "[encoded data removed]",
      "text/plain": [
       "<Figure size 432x288 with 1 Axes>"
      ]
     },
     "metadata": {
      "needs_background": "light"
     },
     "output_type": "display_data"
    }
   ],
   "source": [
    "print(train['Survived'].value_counts(),train['Survived'].value_counts().plot(kind='bar'))"
   ]
  },
  {
   "cell_type": "code",
   "execution_count": 6,
   "id": "cb95b443",
   "metadata": {},
   "outputs": [
    {
     "data": {
      "text/plain": [
       "<AxesSubplot:ylabel='Survived'>"
      ]
     },
     "execution_count": 6,
     "metadata": {},
     "output_type": "execute_result"
    },
    {
     "data": {
      "image/png": "[encoded data removed]",
      "text/plain": [
       "<Figure size 432x288 with 1 Axes>"
      ]
     },
     "metadata": {},
     "output_type": "display_data"
    }
   ],
   "source": [
    "train['Survived'].value_counts().plot(kind='pie')"
   ]
  },
  {
   "cell_type": "markdown",
   "id": "c95a9d20",
   "metadata": {},
   "source": [
    "target label 의 분포가 제법 균일(balanced)합니다. 불균일한 경우, 예를 들어서 100중 1이 99, 0이 1개인 경우에는 만약 모델이 모든것을 1이라 해도 정확도가 99%가 나오게 됩니다. 0을 찾는 문제라면 이 모델은 원하는 결과를 줄 수 없게 됩니다. 지금 문제에서는 그렇지 않으니 계속 진행하겠습니다."
   ]
  },
  {
   "cell_type": "code",
   "execution_count": 7,
   "id": "5971952e",
   "metadata": {},
   "outputs": [
    {
     "name": "stdout",
     "output_type": "stream",
     "text": [
      "3    491\n",
      "1    216\n",
      "2    184\n",
      "Name: Pclass, dtype: int64 AxesSubplot(0.125,0.125;0.775x0.755)\n"
     ]
    },
    {
     "data": {
      "image/png": "[encoded data removed]",
      "text/plain": [
       "<Figure size 432x288 with 1 Axes>"
      ]
     },
     "metadata": {
      "needs_background": "light"
     },
     "output_type": "display_data"
    }
   ],
   "source": [
    "print(train['Pclass'].value_counts(),train['Pclass'].value_counts().plot(kind='bar'))"
   ]
  },
  {
   "cell_type": "code",
   "execution_count": 8,
   "id": "8f1580ae",
   "metadata": {},
   "outputs": [
    {
     "name": "stdout",
     "output_type": "stream",
     "text": [
      "male      577\n",
      "female    314\n",
      "Name: Sex, dtype: int64 AxesSubplot(0.125,0.125;0.775x0.755)\n"
     ]
    },
    {
     "data": {
      "image/png": "[encoded data removed]",
      "text/plain": [
       "<Figure size 432x288 with 1 Axes>"
      ]
     },
     "metadata": {
      "needs_background": "light"
     },
     "output_type": "display_data"
    }
   ],
   "source": [
    "print(train['Sex'].value_counts(),train['Sex'].value_counts().plot(kind='bar'))"
   ]
  },
  {
   "cell_type": "code",
   "execution_count": 9,
   "id": "94f9fb18",
   "metadata": {
    "scrolled": true
   },
   "outputs": [
    {
     "name": "stdout",
     "output_type": "stream",
     "text": [
      "S    644\n",
      "C    168\n",
      "Q     77\n",
      "Name: Embarked, dtype: int64 AxesSubplot(0.125,0.125;0.775x0.755)\n"
     ]
    },
    {
     "data": {
      "image/png": "[encoded data removed]",
      "text/plain": [
       "<Figure size 432x288 with 1 Axes>"
      ]
     },
     "metadata": {
      "needs_background": "light"
     },
     "output_type": "display_data"
    }
   ],
   "source": [
    "print(train['Embarked'].value_counts(),train['Embarked'].value_counts().plot(kind='bar'))"
   ]
  },
  {
   "cell_type": "code",
   "execution_count": 10,
   "id": "0362a023",
   "metadata": {
    "scrolled": true
   },
   "outputs": [
    {
     "data": {
      "text/plain": [
       "array(['Mr', 'Mrs', 'Miss', 'Master', 'Don', 'Rev', 'Dr', 'Mme', 'Ms',\n",
       "       'Major', 'Lady', 'Sir', 'Mlle', 'Col', 'Capt', 'Countess',\n",
       "       'Jonkheer'], dtype=object)"
      ]
     },
     "execution_count": 10,
     "metadata": {},
     "output_type": "execute_result"
    }
   ],
   "source": [
    "train['name_title']=train['Name'].str.extract('([a-zA-Z]+)[.]',expand=False)\n",
    "train['name_title'].unique()"
   ]
  },
  {
   "cell_type": "markdown",
   "id": "1ac6dc1e",
   "metadata": {},
   "source": [
    "#### 중복 의미의 호칭 정리"
   ]
  },
  {
   "cell_type": "code",
   "execution_count": 11,
   "id": "96831a79",
   "metadata": {},
   "outputs": [],
   "source": [
    "#Mme MLLe ->Mrs\n",
    "# Ms Lady -> Miss"
   ]
  },
  {
   "cell_type": "code",
   "execution_count": 12,
   "id": "0893b7f2",
   "metadata": {},
   "outputs": [
    {
     "data": {
      "text/plain": [
       "array(['Mr', 'Mrs', 'Miss', 'Master', 'Don', 'Rev', 'Dr', 'Major', 'Sir',\n",
       "       'Mlle', 'Col', 'Capt', 'Countess', 'Jonkheer'], dtype=object)"
      ]
     },
     "execution_count": 12,
     "metadata": {},
     "output_type": "execute_result"
    }
   ],
   "source": [
    "train['name_title'].replace('Mme','Mrs',inplace=True)\n",
    "train['name_title'].replace('MLLe','Mrs',inplace=True)\n",
    "train['name_title'].replace('Ms','Miss',inplace=True)\n",
    "train['name_title'].replace('Lady','Miss',inplace=True)\n",
    "train['name_title'].unique()"
   ]
  },
  {
   "cell_type": "code",
   "execution_count": 13,
   "id": "1b16677c",
   "metadata": {},
   "outputs": [
    {
     "data": {
      "text/html": [
       "<div>\n",
       "<style scoped>\n",
       "    .dataframe tbody tr th:only-of-type {\n",
       "        vertical-align: middle;\n",
       "    }\n",
       "\n",
       "    .dataframe tbody tr th {\n",
       "        vertical-align: top;\n",
       "    }\n",
       "\n",
       "    .dataframe thead th {\n",
       "        text-align: right;\n",
       "    }\n",
       "</style>\n",
       "<table border=\"1\" class=\"dataframe\">\n",
       "  <thead>\n",
       "    <tr style=\"text-align: right;\">\n",
       "      <th>col_0</th>\n",
       "      <th>177</th>\n",
       "    </tr>\n",
       "    <tr>\n",
       "      <th>name_title</th>\n",
       "      <th></th>\n",
       "    </tr>\n",
       "  </thead>\n",
       "  <tbody>\n",
       "    <tr>\n",
       "      <th>Capt</th>\n",
       "      <td>1</td>\n",
       "    </tr>\n",
       "    <tr>\n",
       "      <th>Col</th>\n",
       "      <td>2</td>\n",
       "    </tr>\n",
       "    <tr>\n",
       "      <th>Countess</th>\n",
       "      <td>1</td>\n",
       "    </tr>\n",
       "    <tr>\n",
       "      <th>Don</th>\n",
       "      <td>1</td>\n",
       "    </tr>\n",
       "    <tr>\n",
       "      <th>Dr</th>\n",
       "      <td>7</td>\n",
       "    </tr>\n",
       "  </tbody>\n",
       "</table>\n",
       "</div>"
      ],
      "text/plain": [
       "col_0       177\n",
       "name_title     \n",
       "Capt          1\n",
       "Col           2\n",
       "Countess      1\n",
       "Don           1\n",
       "Dr            7"
      ]
     },
     "execution_count": 13,
     "metadata": {},
     "output_type": "execute_result"
    }
   ],
   "source": [
    "train[['name_title','Age']].value_counts()\n",
    "pd.crosstab(train['name_title'],train['Age'].isna().sum()).head()"
   ]
  },
  {
   "cell_type": "markdown",
   "id": "05023eea",
   "metadata": {},
   "source": [
    "#### 그룹별 평균 나이"
   ]
  },
  {
   "cell_type": "markdown",
   "id": "3a610575",
   "metadata": {},
   "source": [
    "- groupby 값을 이용해 fillna()할 경우 transform( ) 사용!\n",
    "- train['Age'].apply( ) = train['Age'].transfrom( ) \n",
    "- train.groupby('pclass')['Age'].apply( ) !=train.groupby('pclass')['Age'].transform( ) \n",
    "- 그냥 쓸 때는 같은 결과 but 그룹핑 했을 때는 다른 결과가 나옴! "
   ]
  },
  {
   "cell_type": "code",
   "execution_count": 14,
   "id": "ae0b7b4d",
   "metadata": {},
   "outputs": [
    {
     "data": {
      "text/plain": [
       "0"
      ]
     },
     "execution_count": 14,
     "metadata": {},
     "output_type": "execute_result"
    }
   ],
   "source": [
    "train['Age']=train['Age'].fillna(train.groupby(by='name_title')['Age'].transform('mean'),)\n",
    "train['Age'].isnull().sum()"
   ]
  },
  {
   "cell_type": "code",
   "execution_count": 15,
   "id": "d0eb00c9",
   "metadata": {
    "scrolled": false
   },
   "outputs": [
    {
     "data": {
      "text/plain": [
       "name_title\n",
       "Capt        70.000000\n",
       "Col         58.000000\n",
       "Countess    33.000000\n",
       "Don         40.000000\n",
       "Dr          42.000000\n",
       "Jonkheer    38.000000\n",
       "Major       48.500000\n",
       "Master       4.574167\n",
       "Miss        21.993243\n",
       "Mlle        24.000000\n",
       "Mr          32.368090\n",
       "Mrs         35.788991\n",
       "Rev         43.166667\n",
       "Sir         49.000000\n",
       "Name: Age, dtype: float64"
      ]
     },
     "execution_count": 15,
     "metadata": {},
     "output_type": "execute_result"
    }
   ],
   "source": [
    "train.groupby(by='name_title')['Age'].mean()"
   ]
  },
  {
   "cell_type": "code",
   "execution_count": 16,
   "id": "00a6c01a",
   "metadata": {},
   "outputs": [
    {
     "data": {
      "text/plain": [
       "0    22.0\n",
       "1    38.0\n",
       "2    26.0\n",
       "3    35.0\n",
       "4    35.0\n",
       "Name: Age, dtype: float64"
      ]
     },
     "execution_count": 16,
     "metadata": {},
     "output_type": "execute_result"
    }
   ],
   "source": [
    "train['Age'].head()"
   ]
  },
  {
   "cell_type": "markdown",
   "id": "4d1ae73a",
   "metadata": {},
   "source": [
    "#### 호칭 > 수치 변환 (인코딩)"
   ]
  },
  {
   "cell_type": "code",
   "execution_count": 17,
   "id": "b24da748",
   "metadata": {},
   "outputs": [],
   "source": [
    "#pd.crosstab(train['name_title'],train['Survived']).index\n",
    "#train['name_title'].replace(['Capt', 'Col', 'Countess', 'Don', 'Dr', 'Jonkheer','Sir'],'Miss',inplace=True)"
   ]
  },
  {
   "cell_type": "code",
   "execution_count": 18,
   "id": "a6f1e611",
   "metadata": {},
   "outputs": [
    {
     "data": {
      "text/plain": [
       "0      3.0\n",
       "1      4.0\n",
       "2      2.0\n",
       "3      4.0\n",
       "4      3.0\n",
       "      ... \n",
       "886    5.0\n",
       "887    2.0\n",
       "888    2.0\n",
       "889    3.0\n",
       "890    3.0\n",
       "Name: name_title, Length: 891, dtype: float64"
      ]
     },
     "execution_count": 18,
     "metadata": {},
     "output_type": "execute_result"
    }
   ],
   "source": [
    "title_dict = {'Major':0, 'Master':1,'Miss':2, 'Mr':3, 'Mrs':4, 'Rev':5,\n",
    "              'Capt':6, 'Col':6, 'Countess':6, 'Don':6, 'Dr':6, 'Jonkheer':6, 'Sir':6 }\n",
    "\n",
    "train['name_title']=train['name_title'].map(title_dict)\n",
    "train['name_title']"
   ]
  },
  {
   "cell_type": "code",
   "execution_count": 19,
   "id": "0f9ac130",
   "metadata": {},
   "outputs": [
    {
     "data": {
      "text/html": [
       "<div>\n",
       "<style scoped>\n",
       "    .dataframe tbody tr th:only-of-type {\n",
       "        vertical-align: middle;\n",
       "    }\n",
       "\n",
       "    .dataframe tbody tr th {\n",
       "        vertical-align: top;\n",
       "    }\n",
       "\n",
       "    .dataframe thead th {\n",
       "        text-align: right;\n",
       "    }\n",
       "</style>\n",
       "<table border=\"1\" class=\"dataframe\">\n",
       "  <thead>\n",
       "    <tr style=\"text-align: right;\">\n",
       "      <th></th>\n",
       "      <th>PassengerId</th>\n",
       "      <th>Survived</th>\n",
       "      <th>Pclass</th>\n",
       "      <th>Name</th>\n",
       "      <th>Sex</th>\n",
       "      <th>Age</th>\n",
       "      <th>SibSp</th>\n",
       "      <th>Parch</th>\n",
       "      <th>Ticket</th>\n",
       "      <th>Fare</th>\n",
       "      <th>Cabin</th>\n",
       "      <th>Embarked</th>\n",
       "      <th>name_title</th>\n",
       "    </tr>\n",
       "  </thead>\n",
       "  <tbody>\n",
       "    <tr>\n",
       "      <th>0</th>\n",
       "      <td>1</td>\n",
       "      <td>0</td>\n",
       "      <td>3</td>\n",
       "      <td>Braund, Mr. Owen Harris</td>\n",
       "      <td>male</td>\n",
       "      <td>22.0</td>\n",
       "      <td>1</td>\n",
       "      <td>0</td>\n",
       "      <td>A/5 21171</td>\n",
       "      <td>7.2500</td>\n",
       "      <td>NaN</td>\n",
       "      <td>S</td>\n",
       "      <td>3.0</td>\n",
       "    </tr>\n",
       "    <tr>\n",
       "      <th>1</th>\n",
       "      <td>2</td>\n",
       "      <td>1</td>\n",
       "      <td>1</td>\n",
       "      <td>Cumings, Mrs. John Bradley (Florence Briggs Th...</td>\n",
       "      <td>female</td>\n",
       "      <td>38.0</td>\n",
       "      <td>1</td>\n",
       "      <td>0</td>\n",
       "      <td>PC 17599</td>\n",
       "      <td>71.2833</td>\n",
       "      <td>C85</td>\n",
       "      <td>C</td>\n",
       "      <td>4.0</td>\n",
       "    </tr>\n",
       "    <tr>\n",
       "      <th>2</th>\n",
       "      <td>3</td>\n",
       "      <td>1</td>\n",
       "      <td>3</td>\n",
       "      <td>Heikkinen, Miss. Laina</td>\n",
       "      <td>female</td>\n",
       "      <td>26.0</td>\n",
       "      <td>0</td>\n",
       "      <td>0</td>\n",
       "      <td>STON/O2. 3101282</td>\n",
       "      <td>7.9250</td>\n",
       "      <td>NaN</td>\n",
       "      <td>S</td>\n",
       "      <td>2.0</td>\n",
       "    </tr>\n",
       "    <tr>\n",
       "      <th>3</th>\n",
       "      <td>4</td>\n",
       "      <td>1</td>\n",
       "      <td>1</td>\n",
       "      <td>Futrelle, Mrs. Jacques Heath (Lily May Peel)</td>\n",
       "      <td>female</td>\n",
       "      <td>35.0</td>\n",
       "      <td>1</td>\n",
       "      <td>0</td>\n",
       "      <td>113803</td>\n",
       "      <td>53.1000</td>\n",
       "      <td>C123</td>\n",
       "      <td>S</td>\n",
       "      <td>4.0</td>\n",
       "    </tr>\n",
       "    <tr>\n",
       "      <th>4</th>\n",
       "      <td>5</td>\n",
       "      <td>0</td>\n",
       "      <td>3</td>\n",
       "      <td>Allen, Mr. William Henry</td>\n",
       "      <td>male</td>\n",
       "      <td>35.0</td>\n",
       "      <td>0</td>\n",
       "      <td>0</td>\n",
       "      <td>373450</td>\n",
       "      <td>8.0500</td>\n",
       "      <td>NaN</td>\n",
       "      <td>S</td>\n",
       "      <td>3.0</td>\n",
       "    </tr>\n",
       "  </tbody>\n",
       "</table>\n",
       "</div>"
      ],
      "text/plain": [
       "   PassengerId  Survived  Pclass  \\\n",
       "0            1         0       3   \n",
       "1            2         1       1   \n",
       "2            3         1       3   \n",
       "3            4         1       1   \n",
       "4            5         0       3   \n",
       "\n",
       "                                                Name     Sex   Age  SibSp  \\\n",
       "0                            Braund, Mr. Owen Harris    male  22.0      1   \n",
       "1  Cumings, Mrs. John Bradley (Florence Briggs Th...  female  38.0      1   \n",
       "2                             Heikkinen, Miss. Laina  female  26.0      0   \n",
       "3       Futrelle, Mrs. Jacques Heath (Lily May Peel)  female  35.0      1   \n",
       "4                           Allen, Mr. William Henry    male  35.0      0   \n",
       "\n",
       "   Parch            Ticket     Fare Cabin Embarked  name_title  \n",
       "0      0         A/5 21171   7.2500   NaN        S         3.0  \n",
       "1      0          PC 17599  71.2833   C85        C         4.0  \n",
       "2      0  STON/O2. 3101282   7.9250   NaN        S         2.0  \n",
       "3      0            113803  53.1000  C123        S         4.0  \n",
       "4      0            373450   8.0500   NaN        S         3.0  "
      ]
     },
     "execution_count": 19,
     "metadata": {},
     "output_type": "execute_result"
    }
   ],
   "source": [
    "train.head()"
   ]
  },
  {
   "cell_type": "markdown",
   "id": "38e9ad79",
   "metadata": {},
   "source": [
    " 대체로 레코드 수 = unique 수 이다. </br>\n",
    "결측치와 unique값을 확인해본다."
   ]
  },
  {
   "cell_type": "code",
   "execution_count": 20,
   "id": "fa614cf7",
   "metadata": {
    "scrolled": false
   },
   "outputs": [
    {
     "name": "stdout",
     "output_type": "stream",
     "text": [
      "Cabin         687\n",
      "Embarked        2\n",
      "name_title      2\n",
      "dtype: int64\n",
      "------------------------------\n",
      "PassengerId    891\n",
      "Name           891\n",
      "Ticket         681\n",
      "dtype: int64\n"
     ]
    }
   ],
   "source": [
    "print(train.isnull().sum()[train.isna().sum() >0])\n",
    "print(\"---\"*10)\n",
    "print(train.nunique()[train.nunique()  >= 650])"
   ]
  },
  {
   "cell_type": "markdown",
   "id": "2ed0666e",
   "metadata": {},
   "source": [
    "ticket이 survived와 관련있는지 확인해보았으나, 무의미하므로 컬럼을 삭제한다."
   ]
  },
  {
   "cell_type": "code",
   "execution_count": 21,
   "id": "e30d449d",
   "metadata": {},
   "outputs": [
    {
     "data": {
      "text/plain": [
       "Ticket             Survived\n",
       "CA. 2343           0           7\n",
       "347082             0           7\n",
       "347088             0           6\n",
       "CA 2144            0           6\n",
       "3101295            0           6\n",
       "                              ..\n",
       "STON/O 2. 3101280  0           1\n",
       "PC 17604           1           1\n",
       "PC 17603           1           1\n",
       "A.5. 11206         0           1\n",
       "WE/P 5735          1           1\n",
       "Length: 730, dtype: int64"
      ]
     },
     "execution_count": 21,
     "metadata": {},
     "output_type": "execute_result"
    }
   ],
   "source": [
    "train[['Ticket', 'Survived']].value_counts().sort_values(ascending=False)"
   ]
  },
  {
   "cell_type": "markdown",
   "id": "5304ce57",
   "metadata": {},
   "source": [
    "['PassengerId','Name','Ticket'] 는 분석하기에 적합하지 않은 컬럼이므로 삭제한다."
   ]
  },
  {
   "cell_type": "code",
   "execution_count": 22,
   "id": "588c4a17",
   "metadata": {},
   "outputs": [
    {
     "data": {
      "text/html": [
       "<div>\n",
       "<style scoped>\n",
       "    .dataframe tbody tr th:only-of-type {\n",
       "        vertical-align: middle;\n",
       "    }\n",
       "\n",
       "    .dataframe tbody tr th {\n",
       "        vertical-align: top;\n",
       "    }\n",
       "\n",
       "    .dataframe thead th {\n",
       "        text-align: right;\n",
       "    }\n",
       "</style>\n",
       "<table border=\"1\" class=\"dataframe\">\n",
       "  <thead>\n",
       "    <tr style=\"text-align: right;\">\n",
       "      <th></th>\n",
       "      <th>Survived</th>\n",
       "      <th>Pclass</th>\n",
       "      <th>Sex</th>\n",
       "      <th>Age</th>\n",
       "      <th>SibSp</th>\n",
       "      <th>Parch</th>\n",
       "      <th>Fare</th>\n",
       "      <th>Cabin</th>\n",
       "      <th>Embarked</th>\n",
       "      <th>name_title</th>\n",
       "    </tr>\n",
       "  </thead>\n",
       "  <tbody>\n",
       "    <tr>\n",
       "      <th>0</th>\n",
       "      <td>0</td>\n",
       "      <td>3</td>\n",
       "      <td>male</td>\n",
       "      <td>22.0</td>\n",
       "      <td>1</td>\n",
       "      <td>0</td>\n",
       "      <td>7.2500</td>\n",
       "      <td>NaN</td>\n",
       "      <td>S</td>\n",
       "      <td>3.0</td>\n",
       "    </tr>\n",
       "    <tr>\n",
       "      <th>1</th>\n",
       "      <td>1</td>\n",
       "      <td>1</td>\n",
       "      <td>female</td>\n",
       "      <td>38.0</td>\n",
       "      <td>1</td>\n",
       "      <td>0</td>\n",
       "      <td>71.2833</td>\n",
       "      <td>C85</td>\n",
       "      <td>C</td>\n",
       "      <td>4.0</td>\n",
       "    </tr>\n",
       "    <tr>\n",
       "      <th>2</th>\n",
       "      <td>1</td>\n",
       "      <td>3</td>\n",
       "      <td>female</td>\n",
       "      <td>26.0</td>\n",
       "      <td>0</td>\n",
       "      <td>0</td>\n",
       "      <td>7.9250</td>\n",
       "      <td>NaN</td>\n",
       "      <td>S</td>\n",
       "      <td>2.0</td>\n",
       "    </tr>\n",
       "    <tr>\n",
       "      <th>3</th>\n",
       "      <td>1</td>\n",
       "      <td>1</td>\n",
       "      <td>female</td>\n",
       "      <td>35.0</td>\n",
       "      <td>1</td>\n",
       "      <td>0</td>\n",
       "      <td>53.1000</td>\n",
       "      <td>C123</td>\n",
       "      <td>S</td>\n",
       "      <td>4.0</td>\n",
       "    </tr>\n",
       "    <tr>\n",
       "      <th>4</th>\n",
       "      <td>0</td>\n",
       "      <td>3</td>\n",
       "      <td>male</td>\n",
       "      <td>35.0</td>\n",
       "      <td>0</td>\n",
       "      <td>0</td>\n",
       "      <td>8.0500</td>\n",
       "      <td>NaN</td>\n",
       "      <td>S</td>\n",
       "      <td>3.0</td>\n",
       "    </tr>\n",
       "  </tbody>\n",
       "</table>\n",
       "</div>"
      ],
      "text/plain": [
       "   Survived  Pclass     Sex   Age  SibSp  Parch     Fare Cabin Embarked  \\\n",
       "0         0       3    male  22.0      1      0   7.2500   NaN        S   \n",
       "1         1       1  female  38.0      1      0  71.2833   C85        C   \n",
       "2         1       3  female  26.0      0      0   7.9250   NaN        S   \n",
       "3         1       1  female  35.0      1      0  53.1000  C123        S   \n",
       "4         0       3    male  35.0      0      0   8.0500   NaN        S   \n",
       "\n",
       "   name_title  \n",
       "0         3.0  \n",
       "1         4.0  \n",
       "2         2.0  \n",
       "3         4.0  \n",
       "4         3.0  "
      ]
     },
     "execution_count": 22,
     "metadata": {},
     "output_type": "execute_result"
    }
   ],
   "source": [
    "train.drop(['PassengerId','Name','Ticket'],axis=1,inplace=True)\n",
    "train.head()"
   ]
  },
  {
   "cell_type": "markdown",
   "id": "5427d4bc",
   "metadata": {},
   "source": [
    "## 3. Feature Engineering & Preprocessing: 피쳐 가공\n",
    "\n",
    "모델을 세우기에 앞서, 모델의 성능을 높일 수 있도록 feature 들을 engineering 합니다. </br>\n",
    "one-hot encoding, class로 나누기, 구간으로 나누기, 텍스트 데이터 처리 등을 합니다.\n",
    "Feature engineering 은 실제 모델의 학습에 쓰려고 하는 것이므로, train 뿐만아닐라 test 도 똑같이 적용해주어야 합니다. 잊지맙시다."
   ]
  },
  {
   "cell_type": "markdown",
   "id": "d3f158d9",
   "metadata": {},
   "source": [
    "### 3-1. 결측치 처리\n",
    "null data 를 어떻게 채우느냐에 따라 모델의 성능이 좌지우지될 수 있기 때문에, 신경써줘야할 부분입니다.\n",
    "\n",
    "Null data: Embarked,Age,Cabin"
   ]
  },
  {
   "cell_type": "markdown",
   "id": "0bd96df8",
   "metadata": {},
   "source": [
    "### Embarked: 최빈값으로 채우기\n",
    "최빈값(mode): 가장 빈번하게 관찰/측정되는 값"
   ]
  },
  {
   "cell_type": "code",
   "execution_count": 23,
   "id": "d4505b08",
   "metadata": {},
   "outputs": [
    {
     "data": {
      "text/plain": [
       "0"
      ]
     },
     "execution_count": 23,
     "metadata": {},
     "output_type": "execute_result"
    }
   ],
   "source": [
    "#최빈값으로 결측치 fillna()\n",
    "mode_var = train['Embarked'].mode().values[0]\n",
    "train['Embarked']=train['Embarked'].fillna(mode_var) #'S'\n",
    "train['Embarked'].isnull().sum()"
   ]
  },
  {
   "cell_type": "markdown",
   "id": "c7e7968e",
   "metadata": {},
   "source": [
    "#### crosstab:범주형 변수를 기준으로 개수 파악이나 수치형 데이터를 넣어 계산할 때 사용"
   ]
  },
  {
   "cell_type": "code",
   "execution_count": 24,
   "id": "011456e6",
   "metadata": {},
   "outputs": [
    {
     "data": {
      "text/html": [
       "<div>\n",
       "<style scoped>\n",
       "    .dataframe tbody tr th:only-of-type {\n",
       "        vertical-align: middle;\n",
       "    }\n",
       "\n",
       "    .dataframe tbody tr th {\n",
       "        vertical-align: top;\n",
       "    }\n",
       "\n",
       "    .dataframe thead th {\n",
       "        text-align: right;\n",
       "    }\n",
       "</style>\n",
       "<table border=\"1\" class=\"dataframe\">\n",
       "  <thead>\n",
       "    <tr style=\"text-align: right;\">\n",
       "      <th>Survived</th>\n",
       "      <th>0</th>\n",
       "      <th>1</th>\n",
       "    </tr>\n",
       "    <tr>\n",
       "      <th>Embarked</th>\n",
       "      <th></th>\n",
       "      <th></th>\n",
       "    </tr>\n",
       "  </thead>\n",
       "  <tbody>\n",
       "    <tr>\n",
       "      <th>C</th>\n",
       "      <td>75</td>\n",
       "      <td>93</td>\n",
       "    </tr>\n",
       "    <tr>\n",
       "      <th>Q</th>\n",
       "      <td>47</td>\n",
       "      <td>30</td>\n",
       "    </tr>\n",
       "    <tr>\n",
       "      <th>S</th>\n",
       "      <td>427</td>\n",
       "      <td>219</td>\n",
       "    </tr>\n",
       "  </tbody>\n",
       "</table>\n",
       "</div>"
      ],
      "text/plain": [
       "Survived    0    1\n",
       "Embarked          \n",
       "C          75   93\n",
       "Q          47   30\n",
       "S         427  219"
      ]
     },
     "execution_count": 24,
     "metadata": {},
     "output_type": "execute_result"
    }
   ],
   "source": [
    "pd.crosstab(train['Embarked'],train['Survived'])"
   ]
  },
  {
   "cell_type": "markdown",
   "id": "c9ab7dbc",
   "metadata": {},
   "source": [
    "### Age : Name 호칭을 사용해 그들의 평균 나이로 채우기"
   ]
  },
  {
   "cell_type": "code",
   "execution_count": 25,
   "id": "7e5dd262",
   "metadata": {},
   "outputs": [
    {
     "data": {
      "text/plain": [
       "0"
      ]
     },
     "execution_count": 25,
     "metadata": {},
     "output_type": "execute_result"
    }
   ],
   "source": [
    "avg_age = int(train['Age'].mean())\n",
    "train['Age']=train['Age'].fillna(avg_age).astype('int') # column casting\n",
    "train['Age'].isnull().sum()"
   ]
  },
  {
   "cell_type": "markdown",
   "id": "28b1c94f",
   "metadata": {},
   "source": [
    "### Cabin : 공백처리\n",
    "* 점수를 봐가며 삭제 여부 결정\n",
    "* Pclass=1 인 승객 대부분이 Cabin을 가지고 있다\n",
    "* 삭제여부 미정 : Pclass 하나만 봐도 된다\n",
    "* A~T 세분화되어 있어서  C1 , C2 , C3"
   ]
  },
  {
   "cell_type": "code",
   "execution_count": 26,
   "id": "2e2a3d34",
   "metadata": {},
   "outputs": [
    {
     "data": {
      "text/plain": [
       "array(['', 'C85', 'C123', 'E46', 'G6', 'C103', 'D56', 'A6', 'C23 C25 C27',\n",
       "       'B78', 'D33', 'B30', 'C52', 'B28', 'C83', 'F33', 'F G73', 'E31',\n",
       "       'A5', 'D10 D12', 'D26', 'C110', 'B58 B60', 'E101', 'F E69', 'D47',\n",
       "       'B86', 'F2', 'C2', 'E33', 'B19', 'A7', 'C49', 'F4', 'A32', 'B4',\n",
       "       'B80', 'A31', 'D36', 'D15', 'C93', 'C78', 'D35', 'C87', 'B77',\n",
       "       'E67', 'B94', 'C125', 'C99', 'C118', 'D7', 'A19', 'B49', 'D',\n",
       "       'C22 C26', 'C106', 'C65', 'E36', 'C54', 'B57 B59 B63 B66', 'C7',\n",
       "       'E34', 'C32', 'B18', 'C124', 'C91', 'E40', 'T', 'C128', 'D37',\n",
       "       'B35', 'E50', 'C82', 'B96 B98', 'E10', 'E44', 'A34', 'C104',\n",
       "       'C111', 'C92', 'E38', 'D21', 'E12', 'E63', 'A14', 'B37', 'C30',\n",
       "       'D20', 'B79', 'E25', 'D46', 'B73', 'C95', 'B38', 'B39', 'B22',\n",
       "       'C86', 'C70', 'A16', 'C101', 'C68', 'A10', 'E68', 'B41', 'A20',\n",
       "       'D19', 'D50', 'D9', 'A23', 'B50', 'A26', 'D48', 'E58', 'C126',\n",
       "       'B71', 'B51 B53 B55', 'D49', 'B5', 'B20', 'F G63', 'C62 C64',\n",
       "       'E24', 'C90', 'C45', 'E8', 'B101', 'D45', 'C46', 'D30', 'E121',\n",
       "       'D11', 'E77', 'F38', 'B3', 'D6', 'B82 B84', 'D17', 'A36', 'B102',\n",
       "       'B69', 'E49', 'C47', 'D28', 'E17', 'A24', 'C50', 'B42', 'C148'],\n",
       "      dtype=object)"
      ]
     },
     "execution_count": 26,
     "metadata": {},
     "output_type": "execute_result"
    }
   ],
   "source": [
    "#결측치 공백처리\n",
    "train['Cabin']=train['Cabin'].fillna('')\n",
    "train['Cabin'].unique()"
   ]
  },
  {
   "cell_type": "code",
   "execution_count": 27,
   "id": "cf9efad3",
   "metadata": {},
   "outputs": [
    {
     "data": {
      "text/plain": [
       "Cabin    Survived\n",
       "         0           481\n",
       "         1           206\n",
       "B96 B98  1             4\n",
       "F33      1             3\n",
       "E101     1             3\n",
       "                    ... \n",
       "C111     0             1\n",
       "C118     0             1\n",
       "C123     0             1\n",
       "         1             1\n",
       "T        0             1\n",
       "Length: 165, dtype: int64"
      ]
     },
     "execution_count": 27,
     "metadata": {},
     "output_type": "execute_result"
    }
   ],
   "source": [
    "train[['Cabin','Survived']].value_counts()"
   ]
  },
  {
   "cell_type": "code",
   "execution_count": 28,
   "id": "d9e35087",
   "metadata": {
    "scrolled": true
   },
   "outputs": [
    {
     "data": {
      "text/html": [
       "<div>\n",
       "<style scoped>\n",
       "    .dataframe tbody tr th:only-of-type {\n",
       "        vertical-align: middle;\n",
       "    }\n",
       "\n",
       "    .dataframe tbody tr th {\n",
       "        vertical-align: top;\n",
       "    }\n",
       "\n",
       "    .dataframe thead th {\n",
       "        text-align: right;\n",
       "    }\n",
       "</style>\n",
       "<table border=\"1\" class=\"dataframe\">\n",
       "  <thead>\n",
       "    <tr style=\"text-align: right;\">\n",
       "      <th>Survived</th>\n",
       "      <th>0</th>\n",
       "      <th>1</th>\n",
       "    </tr>\n",
       "    <tr>\n",
       "      <th>Cabin</th>\n",
       "      <th></th>\n",
       "      <th></th>\n",
       "    </tr>\n",
       "  </thead>\n",
       "  <tbody>\n",
       "    <tr>\n",
       "      <th></th>\n",
       "      <td>481</td>\n",
       "      <td>206</td>\n",
       "    </tr>\n",
       "    <tr>\n",
       "      <th>A10</th>\n",
       "      <td>1</td>\n",
       "      <td>0</td>\n",
       "    </tr>\n",
       "    <tr>\n",
       "      <th>A14</th>\n",
       "      <td>1</td>\n",
       "      <td>0</td>\n",
       "    </tr>\n",
       "    <tr>\n",
       "      <th>A16</th>\n",
       "      <td>0</td>\n",
       "      <td>1</td>\n",
       "    </tr>\n",
       "    <tr>\n",
       "      <th>A19</th>\n",
       "      <td>1</td>\n",
       "      <td>0</td>\n",
       "    </tr>\n",
       "    <tr>\n",
       "      <th>...</th>\n",
       "      <td>...</td>\n",
       "      <td>...</td>\n",
       "    </tr>\n",
       "    <tr>\n",
       "      <th>F33</th>\n",
       "      <td>0</td>\n",
       "      <td>3</td>\n",
       "    </tr>\n",
       "    <tr>\n",
       "      <th>F38</th>\n",
       "      <td>1</td>\n",
       "      <td>0</td>\n",
       "    </tr>\n",
       "    <tr>\n",
       "      <th>F4</th>\n",
       "      <td>0</td>\n",
       "      <td>2</td>\n",
       "    </tr>\n",
       "    <tr>\n",
       "      <th>G6</th>\n",
       "      <td>2</td>\n",
       "      <td>2</td>\n",
       "    </tr>\n",
       "    <tr>\n",
       "      <th>T</th>\n",
       "      <td>1</td>\n",
       "      <td>0</td>\n",
       "    </tr>\n",
       "  </tbody>\n",
       "</table>\n",
       "<p>148 rows × 2 columns</p>\n",
       "</div>"
      ],
      "text/plain": [
       "Survived    0    1\n",
       "Cabin             \n",
       "          481  206\n",
       "A10         1    0\n",
       "A14         1    0\n",
       "A16         0    1\n",
       "A19         1    0\n",
       "...       ...  ...\n",
       "F33         0    3\n",
       "F38         1    0\n",
       "F4          0    2\n",
       "G6          2    2\n",
       "T           1    0\n",
       "\n",
       "[148 rows x 2 columns]"
      ]
     },
     "execution_count": 28,
     "metadata": {},
     "output_type": "execute_result"
    }
   ],
   "source": [
    "pd.crosstab(index=train['Cabin'],columns = train['Survived'])"
   ]
  },
  {
   "cell_type": "code",
   "execution_count": 29,
   "id": "b0688d2f",
   "metadata": {},
   "outputs": [
    {
     "data": {
      "text/html": [
       "<div>\n",
       "<style scoped>\n",
       "    .dataframe tbody tr th:only-of-type {\n",
       "        vertical-align: middle;\n",
       "    }\n",
       "\n",
       "    .dataframe tbody tr th {\n",
       "        vertical-align: top;\n",
       "    }\n",
       "\n",
       "    .dataframe thead th {\n",
       "        text-align: right;\n",
       "    }\n",
       "</style>\n",
       "<table border=\"1\" class=\"dataframe\">\n",
       "  <thead>\n",
       "    <tr style=\"text-align: right;\">\n",
       "      <th>Pclass</th>\n",
       "      <th>1</th>\n",
       "      <th>2</th>\n",
       "      <th>3</th>\n",
       "    </tr>\n",
       "    <tr>\n",
       "      <th>Cabin</th>\n",
       "      <th></th>\n",
       "      <th></th>\n",
       "      <th></th>\n",
       "    </tr>\n",
       "  </thead>\n",
       "  <tbody>\n",
       "    <tr>\n",
       "      <th></th>\n",
       "      <td>40</td>\n",
       "      <td>168</td>\n",
       "      <td>479</td>\n",
       "    </tr>\n",
       "    <tr>\n",
       "      <th>A10</th>\n",
       "      <td>1</td>\n",
       "      <td>0</td>\n",
       "      <td>0</td>\n",
       "    </tr>\n",
       "    <tr>\n",
       "      <th>A14</th>\n",
       "      <td>1</td>\n",
       "      <td>0</td>\n",
       "      <td>0</td>\n",
       "    </tr>\n",
       "    <tr>\n",
       "      <th>A16</th>\n",
       "      <td>1</td>\n",
       "      <td>0</td>\n",
       "      <td>0</td>\n",
       "    </tr>\n",
       "    <tr>\n",
       "      <th>A19</th>\n",
       "      <td>1</td>\n",
       "      <td>0</td>\n",
       "      <td>0</td>\n",
       "    </tr>\n",
       "    <tr>\n",
       "      <th>...</th>\n",
       "      <td>...</td>\n",
       "      <td>...</td>\n",
       "      <td>...</td>\n",
       "    </tr>\n",
       "    <tr>\n",
       "      <th>F33</th>\n",
       "      <td>0</td>\n",
       "      <td>3</td>\n",
       "      <td>0</td>\n",
       "    </tr>\n",
       "    <tr>\n",
       "      <th>F38</th>\n",
       "      <td>0</td>\n",
       "      <td>0</td>\n",
       "      <td>1</td>\n",
       "    </tr>\n",
       "    <tr>\n",
       "      <th>F4</th>\n",
       "      <td>0</td>\n",
       "      <td>2</td>\n",
       "      <td>0</td>\n",
       "    </tr>\n",
       "    <tr>\n",
       "      <th>G6</th>\n",
       "      <td>0</td>\n",
       "      <td>0</td>\n",
       "      <td>4</td>\n",
       "    </tr>\n",
       "    <tr>\n",
       "      <th>T</th>\n",
       "      <td>1</td>\n",
       "      <td>0</td>\n",
       "      <td>0</td>\n",
       "    </tr>\n",
       "  </tbody>\n",
       "</table>\n",
       "<p>148 rows × 3 columns</p>\n",
       "</div>"
      ],
      "text/plain": [
       "Pclass   1    2    3\n",
       "Cabin               \n",
       "        40  168  479\n",
       "A10      1    0    0\n",
       "A14      1    0    0\n",
       "A16      1    0    0\n",
       "A19      1    0    0\n",
       "...     ..  ...  ...\n",
       "F33      0    3    0\n",
       "F38      0    0    1\n",
       "F4       0    2    0\n",
       "G6       0    0    4\n",
       "T        1    0    0\n",
       "\n",
       "[148 rows x 3 columns]"
      ]
     },
     "execution_count": 29,
     "metadata": {},
     "output_type": "execute_result"
    }
   ],
   "source": [
    "pd.crosstab(index=train['Cabin'],columns = train['Pclass'])"
   ]
  },
  {
   "cell_type": "code",
   "execution_count": 30,
   "id": "c5cd4384",
   "metadata": {
    "scrolled": false
   },
   "outputs": [
    {
     "name": "stdout",
     "output_type": "stream",
     "text": [
      "<class 'pandas.core.frame.DataFrame'>\n",
      "RangeIndex: 891 entries, 0 to 890\n",
      "Data columns (total 10 columns):\n",
      " #   Column      Non-Null Count  Dtype  \n",
      "---  ------      --------------  -----  \n",
      " 0   Survived    891 non-null    int64  \n",
      " 1   Pclass      891 non-null    int64  \n",
      " 2   Sex         891 non-null    object \n",
      " 3   Age         891 non-null    int32  \n",
      " 4   SibSp       891 non-null    int64  \n",
      " 5   Parch       891 non-null    int64  \n",
      " 6   Fare        891 non-null    float64\n",
      " 7   Cabin       891 non-null    object \n",
      " 8   Embarked    891 non-null    object \n",
      " 9   name_title  889 non-null    float64\n",
      "dtypes: float64(2), int32(1), int64(4), object(3)\n",
      "memory usage: 66.3+ KB\n"
     ]
    }
   ],
   "source": [
    "train.info() #결측처리 완료"
   ]
  },
  {
   "cell_type": "markdown",
   "id": "9706aa6b",
   "metadata": {},
   "source": [
    "### 3-2. object을 numeric(수치)타입으로 변경"
   ]
  },
  {
   "cell_type": "raw",
   "id": "8fb349e3",
   "metadata": {},
   "source": [
    "10  Cabin        891 non-null    object \n",
    "4   Sex          891 non-null    object \n",
    "11  Embarked     891 non-null    object "
   ]
  },
  {
   "cell_type": "markdown",
   "id": "35a557b8",
   "metadata": {},
   "source": [
    "- map: 여러 개의 데이터를 한 번에 다른 형태로 변환하기 위해서 사용\n",
    "-lambda \n",
    "-replace\n",
    "-get_dummies"
   ]
  },
  {
   "cell_type": "markdown",
   "id": "3a006e7a",
   "metadata": {},
   "source": [
    "### object타입 컬럼 추출"
   ]
  },
  {
   "cell_type": "code",
   "execution_count": 31,
   "id": "0df3a103",
   "metadata": {},
   "outputs": [
    {
     "name": "stdout",
     "output_type": "stream",
     "text": [
      "['Sex', 'Cabin', 'Embarked']\n"
     ]
    }
   ],
   "source": [
    "col_list=train.select_dtypes(include='object').columns.tolist()\n",
    "print(col_list)"
   ]
  },
  {
   "cell_type": "markdown",
   "id": "f6d6bc9b",
   "metadata": {},
   "source": [
    "### df['col'].astype('category')사용해 numeric으로 변경"
   ]
  },
  {
   "cell_type": "code",
   "execution_count": 32,
   "id": "57c610a2",
   "metadata": {
    "scrolled": true
   },
   "outputs": [
    {
     "data": {
      "text/html": [
       "<div>\n",
       "<style scoped>\n",
       "    .dataframe tbody tr th:only-of-type {\n",
       "        vertical-align: middle;\n",
       "    }\n",
       "\n",
       "    .dataframe tbody tr th {\n",
       "        vertical-align: top;\n",
       "    }\n",
       "\n",
       "    .dataframe thead th {\n",
       "        text-align: right;\n",
       "    }\n",
       "</style>\n",
       "<table border=\"1\" class=\"dataframe\">\n",
       "  <thead>\n",
       "    <tr style=\"text-align: right;\">\n",
       "      <th></th>\n",
       "      <th>Survived</th>\n",
       "      <th>Pclass</th>\n",
       "      <th>Sex</th>\n",
       "      <th>Age</th>\n",
       "      <th>SibSp</th>\n",
       "      <th>Parch</th>\n",
       "      <th>Fare</th>\n",
       "      <th>Cabin</th>\n",
       "      <th>Embarked</th>\n",
       "      <th>name_title</th>\n",
       "      <th>Sex2</th>\n",
       "    </tr>\n",
       "  </thead>\n",
       "  <tbody>\n",
       "    <tr>\n",
       "      <th>0</th>\n",
       "      <td>0</td>\n",
       "      <td>3</td>\n",
       "      <td>male</td>\n",
       "      <td>22</td>\n",
       "      <td>1</td>\n",
       "      <td>0</td>\n",
       "      <td>7.2500</td>\n",
       "      <td>0</td>\n",
       "      <td>S</td>\n",
       "      <td>3.0</td>\n",
       "      <td>1</td>\n",
       "    </tr>\n",
       "    <tr>\n",
       "      <th>1</th>\n",
       "      <td>1</td>\n",
       "      <td>1</td>\n",
       "      <td>female</td>\n",
       "      <td>38</td>\n",
       "      <td>1</td>\n",
       "      <td>0</td>\n",
       "      <td>71.2833</td>\n",
       "      <td>82</td>\n",
       "      <td>C</td>\n",
       "      <td>4.0</td>\n",
       "      <td>0</td>\n",
       "    </tr>\n",
       "    <tr>\n",
       "      <th>2</th>\n",
       "      <td>1</td>\n",
       "      <td>3</td>\n",
       "      <td>female</td>\n",
       "      <td>26</td>\n",
       "      <td>0</td>\n",
       "      <td>0</td>\n",
       "      <td>7.9250</td>\n",
       "      <td>0</td>\n",
       "      <td>S</td>\n",
       "      <td>2.0</td>\n",
       "      <td>0</td>\n",
       "    </tr>\n",
       "    <tr>\n",
       "      <th>3</th>\n",
       "      <td>1</td>\n",
       "      <td>1</td>\n",
       "      <td>female</td>\n",
       "      <td>35</td>\n",
       "      <td>1</td>\n",
       "      <td>0</td>\n",
       "      <td>53.1000</td>\n",
       "      <td>56</td>\n",
       "      <td>S</td>\n",
       "      <td>4.0</td>\n",
       "      <td>0</td>\n",
       "    </tr>\n",
       "    <tr>\n",
       "      <th>4</th>\n",
       "      <td>0</td>\n",
       "      <td>3</td>\n",
       "      <td>male</td>\n",
       "      <td>35</td>\n",
       "      <td>0</td>\n",
       "      <td>0</td>\n",
       "      <td>8.0500</td>\n",
       "      <td>0</td>\n",
       "      <td>S</td>\n",
       "      <td>3.0</td>\n",
       "      <td>1</td>\n",
       "    </tr>\n",
       "  </tbody>\n",
       "</table>\n",
       "</div>"
      ],
      "text/plain": [
       "   Survived  Pclass     Sex  Age  SibSp  Parch     Fare  Cabin Embarked  \\\n",
       "0         0       3    male   22      1      0   7.2500      0        S   \n",
       "1         1       1  female   38      1      0  71.2833     82        C   \n",
       "2         1       3  female   26      0      0   7.9250      0        S   \n",
       "3         1       1  female   35      1      0  53.1000     56        S   \n",
       "4         0       3    male   35      0      0   8.0500      0        S   \n",
       "\n",
       "   name_title  Sex2  \n",
       "0         3.0     1  \n",
       "1         4.0     0  \n",
       "2         2.0     0  \n",
       "3         4.0     0  \n",
       "4         3.0     1  "
      ]
     },
     "execution_count": 32,
     "metadata": {},
     "output_type": "execute_result"
    }
   ],
   "source": [
    "train['Cabin']= train['Cabin'].astype('category').cat.codes #범주형으로 변환\n",
    "train['Sex2'] = train['Sex'].astype('category').cat.codes\n",
    "train.head()"
   ]
  },
  {
   "cell_type": "markdown",
   "id": "6e0ccb24",
   "metadata": {},
   "source": [
    "### pd.get_dummies() \n",
    "주로 마지막에 쓴다\n",
    "* 결측처리  + LabelEncoder() + OneHotEncoder()"
   ]
  },
  {
   "cell_type": "code",
   "execution_count": 33,
   "id": "afe592f5",
   "metadata": {},
   "outputs": [
    {
     "data": {
      "text/html": [
       "<div>\n",
       "<style scoped>\n",
       "    .dataframe tbody tr th:only-of-type {\n",
       "        vertical-align: middle;\n",
       "    }\n",
       "\n",
       "    .dataframe tbody tr th {\n",
       "        vertical-align: top;\n",
       "    }\n",
       "\n",
       "    .dataframe thead th {\n",
       "        text-align: right;\n",
       "    }\n",
       "</style>\n",
       "<table border=\"1\" class=\"dataframe\">\n",
       "  <thead>\n",
       "    <tr style=\"text-align: right;\">\n",
       "      <th></th>\n",
       "      <th>Survived</th>\n",
       "      <th>Pclass</th>\n",
       "      <th>Age</th>\n",
       "      <th>SibSp</th>\n",
       "      <th>Parch</th>\n",
       "      <th>Fare</th>\n",
       "      <th>Cabin</th>\n",
       "      <th>Embarked</th>\n",
       "      <th>name_title</th>\n",
       "      <th>Sex2</th>\n",
       "      <th>Sex_female</th>\n",
       "      <th>Sex_male</th>\n",
       "    </tr>\n",
       "  </thead>\n",
       "  <tbody>\n",
       "    <tr>\n",
       "      <th>0</th>\n",
       "      <td>0</td>\n",
       "      <td>3</td>\n",
       "      <td>22</td>\n",
       "      <td>1</td>\n",
       "      <td>0</td>\n",
       "      <td>7.2500</td>\n",
       "      <td>0</td>\n",
       "      <td>S</td>\n",
       "      <td>3.0</td>\n",
       "      <td>1</td>\n",
       "      <td>0</td>\n",
       "      <td>1</td>\n",
       "    </tr>\n",
       "    <tr>\n",
       "      <th>1</th>\n",
       "      <td>1</td>\n",
       "      <td>1</td>\n",
       "      <td>38</td>\n",
       "      <td>1</td>\n",
       "      <td>0</td>\n",
       "      <td>71.2833</td>\n",
       "      <td>82</td>\n",
       "      <td>C</td>\n",
       "      <td>4.0</td>\n",
       "      <td>0</td>\n",
       "      <td>1</td>\n",
       "      <td>0</td>\n",
       "    </tr>\n",
       "    <tr>\n",
       "      <th>2</th>\n",
       "      <td>1</td>\n",
       "      <td>3</td>\n",
       "      <td>26</td>\n",
       "      <td>0</td>\n",
       "      <td>0</td>\n",
       "      <td>7.9250</td>\n",
       "      <td>0</td>\n",
       "      <td>S</td>\n",
       "      <td>2.0</td>\n",
       "      <td>0</td>\n",
       "      <td>1</td>\n",
       "      <td>0</td>\n",
       "    </tr>\n",
       "    <tr>\n",
       "      <th>3</th>\n",
       "      <td>1</td>\n",
       "      <td>1</td>\n",
       "      <td>35</td>\n",
       "      <td>1</td>\n",
       "      <td>0</td>\n",
       "      <td>53.1000</td>\n",
       "      <td>56</td>\n",
       "      <td>S</td>\n",
       "      <td>4.0</td>\n",
       "      <td>0</td>\n",
       "      <td>1</td>\n",
       "      <td>0</td>\n",
       "    </tr>\n",
       "    <tr>\n",
       "      <th>4</th>\n",
       "      <td>0</td>\n",
       "      <td>3</td>\n",
       "      <td>35</td>\n",
       "      <td>0</td>\n",
       "      <td>0</td>\n",
       "      <td>8.0500</td>\n",
       "      <td>0</td>\n",
       "      <td>S</td>\n",
       "      <td>3.0</td>\n",
       "      <td>1</td>\n",
       "      <td>0</td>\n",
       "      <td>1</td>\n",
       "    </tr>\n",
       "  </tbody>\n",
       "</table>\n",
       "</div>"
      ],
      "text/plain": [
       "   Survived  Pclass  Age  SibSp  Parch     Fare  Cabin Embarked  name_title  \\\n",
       "0         0       3   22      1      0   7.2500      0        S         3.0   \n",
       "1         1       1   38      1      0  71.2833     82        C         4.0   \n",
       "2         1       3   26      0      0   7.9250      0        S         2.0   \n",
       "3         1       1   35      1      0  53.1000     56        S         4.0   \n",
       "4         0       3   35      0      0   8.0500      0        S         3.0   \n",
       "\n",
       "   Sex2  Sex_female  Sex_male  \n",
       "0     1           0         1  \n",
       "1     0           1         0  \n",
       "2     0           1         0  \n",
       "3     0           1         0  \n",
       "4     1           0         1  "
      ]
     },
     "execution_count": 33,
     "metadata": {},
     "output_type": "execute_result"
    }
   ],
   "source": [
    "train = pd.get_dummies(train, columns=['Sex'])\n",
    "train.head()"
   ]
  },
  {
   "cell_type": "markdown",
   "id": "7b578bde",
   "metadata": {},
   "source": [
    "### df.replace( ) \n",
    "df['col'].replace(['a','b'] , [1,2] , inplace=True)"
   ]
  },
  {
   "cell_type": "code",
   "execution_count": 34,
   "id": "5b7c81e7",
   "metadata": {
    "scrolled": true
   },
   "outputs": [
    {
     "data": {
      "text/plain": [
       "1    646\n",
       "2    168\n",
       "3     77\n",
       "Name: Embarked, dtype: int64"
      ]
     },
     "execution_count": 34,
     "metadata": {},
     "output_type": "execute_result"
    }
   ],
   "source": [
    "train['Embarked'].replace(['S','C','Q'],[1,2,3],inplace=True) #replace(old,new)\n",
    "train['Embarked'].value_counts()"
   ]
  },
  {
   "cell_type": "markdown",
   "id": "f48d56e9",
   "metadata": {},
   "source": [
    "### df.apply(lambda)"
   ]
  },
  {
   "cell_type": "code",
   "execution_count": 35,
   "id": "3627c04a",
   "metadata": {},
   "outputs": [],
   "source": [
    "#train['Sex3']=train['Sex'].apply(lambda x: 1 if x=='male' else 0)\n",
    "#train[['Sex3','Sex']]\n",
    "#train.drop(['Sex3'],axis=1,inplace=True)\n",
    "#res = 0\n",
    "#if x == 'male':\n",
    "#    res =1\n",
    "#else:\n",
    "#    res=0"
   ]
  },
  {
   "cell_type": "raw",
   "id": "72c6eea2",
   "metadata": {},
   "source": [
    "피쳐 영향도, 상관분석 \n",
    "PCA : 차원축소\n",
    "스케일링 - 정규분포화(분류는 큰 영향이 없다. 회귀에서 영향을 많이 받는다.)\n",
    "정규표현식\n",
    "바이닝(구간화)\n",
    "평균&편차 -- 파생변수"
   ]
  },
  {
   "cell_type": "markdown",
   "id": "4d338bdb",
   "metadata": {},
   "source": [
    "### 3-3 feature가공: 불필요한 컬럼 모두 삭제"
   ]
  },
  {
   "cell_type": "code",
   "execution_count": 36,
   "id": "77f81f83",
   "metadata": {},
   "outputs": [],
   "source": [
    "#train = train.drop(['Sex_female','Sex_male'], axis=1)"
   ]
  },
  {
   "cell_type": "code",
   "execution_count": 37,
   "id": "37a68a2b",
   "metadata": {},
   "outputs": [],
   "source": [
    "#train = train.rename(columns={\"Sex2\":\"Sex\"}) #컬럼명 바꾸기"
   ]
  },
  {
   "cell_type": "markdown",
   "id": "3a871c9e",
   "metadata": {},
   "source": [
    "### name_title fillna, astype"
   ]
  },
  {
   "cell_type": "code",
   "execution_count": 38,
   "id": "594c4850",
   "metadata": {},
   "outputs": [],
   "source": [
    "train['name_title']=train['name_title'].fillna(train['name_title'].mean())"
   ]
  },
  {
   "cell_type": "code",
   "execution_count": 39,
   "id": "dc4d4b5d",
   "metadata": {
    "scrolled": false
   },
   "outputs": [],
   "source": [
    "train['name_title']=train['name_title'].astype('int')"
   ]
  },
  {
   "cell_type": "markdown",
   "id": "17907c42",
   "metadata": {},
   "source": [
    "### 3-4 상관분석: feature별 영향도 분석\n",
    "- 상관도가 높다 => 두 feature가 유사한 특징을 갖는다.\n",
    "이에 따라 다중공선성이 나타난다."
   ]
  },
  {
   "cell_type": "markdown",
   "id": "22b97111",
   "metadata": {},
   "source": [
    "±0.9이상                : 매우 높은 상관관계 → 다중공선성 문제\n",
    "\n",
    "±0.7이상 ~ ±0.9미만  : 높은 상관관계\n",
    "\n",
    "±0.4이상 ~ ±0.7미만  : 다소 높은 상관관계 → 0.7미만이면 다중공선성 문제에서 안전합니다.\n",
    "\n",
    "±0.2이상 ~ ±0.4미만  : 낮은 상관관계\n",
    "\n",
    "±0.2미만               : 상관관계가 거의 없음\n",
    "\n",
    "(상관관계계수의 최댓값은 1이고 최솟값은 -1입니다. 상관관계계수가 1이라는 것은 그 둘이 같다는 것입니다.)\n"
   ]
  },
  {
   "cell_type": "code",
   "execution_count": 40,
   "id": "7eeca030",
   "metadata": {},
   "outputs": [],
   "source": [
    "import seaborn as sns "
   ]
  },
  {
   "cell_type": "code",
   "execution_count": 41,
   "id": "1a23d22c",
   "metadata": {
    "scrolled": true
   },
   "outputs": [
    {
     "data": {
      "text/plain": [
       "<AxesSubplot:>"
      ]
     },
     "execution_count": 41,
     "metadata": {},
     "output_type": "execute_result"
    },
    {
     "data": {
      "image/png": "[encoded data removed]",
      "text/plain": [
       "<Figure size 432x288 with 2 Axes>"
      ]
     },
     "metadata": {
      "needs_background": "light"
     },
     "output_type": "display_data"
    }
   ],
   "source": [
    "#히트맵은 주로 seaborn으로 그린다\n",
    "sns.heatmap(train.corr(),cmap='Blues',annot=True,fmt=\".2f\")"
   ]
  },
  {
   "cell_type": "markdown",
   "id": "9104639e",
   "metadata": {},
   "source": [
    "### 3-4.1 Family: sibsp,parch 파생변수 추가\n",
    "- Family = sibsp(형제)+ parch(부모자식)+1\n",
    "\n",
    "\n",
    "alone과 family의 상관도가 높은 관계로 만들지 않기로 결정\n",
    "- train['alone'] = sibsp(형제)+ parch(부모자식)==0 :오히려 정확도가 낮아짐\n",
    "- sibsp(형제)+ parch(부모자식) drop"
   ]
  },
  {
   "cell_type": "code",
   "execution_count": 42,
   "id": "13d69c66",
   "metadata": {},
   "outputs": [],
   "source": [
    "#컬럼 간 연산 가능\n",
    "train['Family']= train['SibSp']+train['Parch']+1\n",
    "#train['alone']= (train['SibSp']==0) & (train['Parch']==0)\n",
    "#train['alone']=train['alone'].astype('int')\n",
    "#train.drop(['SibSp','Parch','alone'],axis=1)"
   ]
  },
  {
   "cell_type": "markdown",
   "id": "76edfd1d",
   "metadata": {},
   "source": [
    "방법2) lambda 사용"
   ]
  },
  {
   "cell_type": "code",
   "execution_count": 43,
   "id": "5dfbe54d",
   "metadata": {},
   "outputs": [],
   "source": [
    "#컬럼 1개에만 lambda 적용하는 경우\n",
    "# train['Age']=train['Age'].apply(lambda x: 1 if x==20 else 0)\n",
    "\n",
    "#프레임 통째(컬럼 여러 개)로 lambda 적용하는 경우 axis=1 축 추가!!\n",
    "#train['alone']= train.apply(lambda x: 1 if x['SibSp']+ x['Parch']==0 else 0,axis=1)"
   ]
  },
  {
   "cell_type": "markdown",
   "id": "fa9d2fdb",
   "metadata": {},
   "source": [
    "### 3-4.2 Fare 구간화 (Binning)\n",
    "연속형 변수 값을 범주형으로 변환!"
   ]
  },
  {
   "cell_type": "code",
   "execution_count": 44,
   "id": "59f01843",
   "metadata": {
    "scrolled": true
   },
   "outputs": [
    {
     "data": {
      "text/plain": [
       "count    891.000000\n",
       "mean      32.204208\n",
       "std       49.693429\n",
       "min        0.000000\n",
       "25%        7.910400\n",
       "50%       14.454200\n",
       "75%       31.000000\n",
       "max      512.329200\n",
       "Name: Fare, dtype: float64"
      ]
     },
     "execution_count": 44,
     "metadata": {},
     "output_type": "execute_result"
    }
   ],
   "source": [
    "train['Fare'].describe()"
   ]
  },
  {
   "cell_type": "code",
   "execution_count": 45,
   "id": "cfea4f86",
   "metadata": {},
   "outputs": [
    {
     "data": {
      "text/plain": [
       "<AxesSubplot:>"
      ]
     },
     "execution_count": 45,
     "metadata": {},
     "output_type": "execute_result"
    },
    {
     "data": {
      "image/png": "[encoded data removed]",
      "text/plain": [
       "<Figure size 432x288 with 1 Axes>"
      ]
     },
     "metadata": {
      "needs_background": "light"
     },
     "output_type": "display_data"
    }
   ],
   "source": [
    "train['Fare'].hist()"
   ]
  },
  {
   "cell_type": "code",
   "execution_count": 46,
   "id": "6b84f02a",
   "metadata": {
    "scrolled": true
   },
   "outputs": [
    {
     "data": {
      "text/plain": [
       "<AxesSubplot:xlabel='Fare', ylabel='Count'>"
      ]
     },
     "execution_count": 46,
     "metadata": {},
     "output_type": "execute_result"
    },
    {
     "data": {
      "image/png": "[encoded data removed]",
      "text/plain": [
       "<Figure size 432x288 with 1 Axes>"
      ]
     },
     "metadata": {
      "needs_background": "light"
     },
     "output_type": "display_data"
    }
   ],
   "source": [
    "sns.histplot(data=train,x='Fare')"
   ]
  },
  {
   "cell_type": "raw",
   "id": "fcdc088d",
   "metadata": {},
   "source": [
    "train['Fare_binning']\n",
    "\n",
    "0 <=  x <=7.91       0\n",
    "7.92  <=  x <=14.45  1\n",
    "14.46 <=  x <=31.00  2\n",
    "----------------------------------25\n",
    "32.00 <=  x <=100.00 3\n",
    "100.00 <=  x <= 200.00 4\n",
    "200.00 <=  x <= 300.00 5\n",
    "300.00 <=  x           6\n"
   ]
  },
  {
   "cell_type": "markdown",
   "id": "2e30e932",
   "metadata": {},
   "source": [
    "#### 방법 1) if~, lambda"
   ]
  },
  {
   "cell_type": "code",
   "execution_count": 47,
   "id": "73d3db8e",
   "metadata": {},
   "outputs": [],
   "source": [
    "def fare_binning(x):\n",
    "    res=0 ## 꼭 해주기!\n",
    "    if 0 <=  x <=7.91:\n",
    "        res= 0\n",
    "    elif 7.92  <=  x <=14.45:\n",
    "        res= 1\n",
    "    elif 14.46 <=  x <=31.00:\n",
    "        res= 2\n",
    "    elif 32.00 <=  x <=100.00:\n",
    "        res=3\n",
    "    elif 100.00 <=  x <= 200.00:\n",
    "        res= 4\n",
    "    elif 200.00 <=  x <= 300.00:\n",
    "        res= 5\n",
    "    elif 300.00 <=  x :\n",
    "        res= 6\n",
    "    return res ## 꼭 해주기!\n",
    "#fare_binning(60)\n",
    "\n",
    "train['Fare_binning'] =train['Fare'].apply(lambda x : fare_binning(x) )"
   ]
  },
  {
   "cell_type": "markdown",
   "id": "42968080",
   "metadata": {},
   "source": [
    "#### 방법 2) train.loc[조건,컬럼] = 값"
   ]
  },
  {
   "cell_type": "code",
   "execution_count": 48,
   "id": "f464cca0",
   "metadata": {},
   "outputs": [],
   "source": [
    "# train.loc[train['Fare']<=7.91,'Fare_binning'] = 0\n",
    "# train.loc[(train['Fare']<=7.91)&('train['Fare']<=14.45)] = 1"
   ]
  },
  {
   "cell_type": "markdown",
   "id": "8fa16449",
   "metadata": {},
   "source": [
    "#### 방법 3) cut( ), qcut( ) 추천\n",
    "- cut(df,bins=n,labels=[ ]): 일정한 간격으로 동일하게 n등분 \n",
    "- qcut(df, q=n ,labels=[ ]): 일정 개수로 등분\n",
    "- bins의 개수는 labels의 개수보다 하나 더 많다"
   ]
  },
  {
   "cell_type": "code",
   "execution_count": 49,
   "id": "c69d099e",
   "metadata": {},
   "outputs": [],
   "source": [
    "# #연습\n",
    "# #train['Fare_binning']=pd.cut(x=train['Fare'],bins=3,labels=['a','b','c'])\n",
    "# train['Fare_binning']=pd.qcut(x=train['Fare'],q=3,labels=['a','b','c'])\n",
    "# train[['Fare_binning']].value_counts()"
   ]
  },
  {
   "cell_type": "code",
   "execution_count": 50,
   "id": "02764b77",
   "metadata": {},
   "outputs": [],
   "source": [
    "# # 연습, 0~7까지, 7~30까지, 30~550까지 bins를 구간화 가능!\n",
    "# train['Fare_binning']=pd.cut(x=train['Fare'],bins=[0,7,30,550],labels=['a','b','c'])\n",
    "# train[['Fare_binning']].value_counts()"
   ]
  },
  {
   "cell_type": "code",
   "execution_count": 51,
   "id": "10cb04c0",
   "metadata": {
    "scrolled": true
   },
   "outputs": [],
   "source": [
    "#train.drop(['Fare'],axis=1,inplace=True)"
   ]
  },
  {
   "cell_type": "markdown",
   "id": "8c687b9b",
   "metadata": {},
   "source": [
    "#### 나이 구간화"
   ]
  },
  {
   "cell_type": "code",
   "execution_count": 52,
   "id": "ae590388",
   "metadata": {},
   "outputs": [
    {
     "data": {
      "text/plain": [
       "count    891.000000\n",
       "mean      29.638608\n",
       "std       13.293812\n",
       "min        0.000000\n",
       "25%       21.000000\n",
       "50%       30.000000\n",
       "75%       35.000000\n",
       "max       80.000000\n",
       "Name: Age, dtype: float64"
      ]
     },
     "execution_count": 52,
     "metadata": {},
     "output_type": "execute_result"
    }
   ],
   "source": [
    "train['Age'].describe()"
   ]
  },
  {
   "cell_type": "code",
   "execution_count": 53,
   "id": "4546a995",
   "metadata": {},
   "outputs": [
    {
     "data": {
      "text/plain": [
       "<AxesSubplot:xlabel='Age', ylabel='Count'>"
      ]
     },
     "execution_count": 53,
     "metadata": {},
     "output_type": "execute_result"
    },
    {
     "data": {
      "image/png": "[encoded data removed]",
      "text/plain": [
       "<Figure size 432x288 with 1 Axes>"
      ]
     },
     "metadata": {
      "needs_background": "light"
     },
     "output_type": "display_data"
    }
   ],
   "source": [
    "sns.histplot(data=train,x='Age',hue='Survived')"
   ]
  },
  {
   "cell_type": "code",
   "execution_count": 54,
   "id": "5f11a310",
   "metadata": {},
   "outputs": [],
   "source": [
    "train['age_binning']=pd.cut(x=train['Age'],bins=[-1.0,12,18,22,27,33,40,66,100],labels=[1,2,3,4,5,6,7,8])\n",
    "#train.drop(['Age','Fare'],axis=1,inplace=True)\n",
    "#train['age_binning'].astype('int') #범주형으로 바뀌기 때문에 astype 해준다"
   ]
  },
  {
   "cell_type": "markdown",
   "id": "19c52d21",
   "metadata": {},
   "source": [
    "## 4. 모델학습 및 평가"
   ]
  },
  {
   "cell_type": "markdown",
   "id": "a6d0e6e9",
   "metadata": {},
   "source": [
    "1. 지도학습: Supervisied learning - 분류, 회귀, 의사결정나무 등등 </br>\n",
    "2. 비지도학습: Unsupervised learning - 군집 등등 "
   ]
  },
  {
   "cell_type": "markdown",
   "id": "59beb7ba",
   "metadata": {},
   "source": [
    "### 4-1. train과 test 데이터 분리"
   ]
  },
  {
   "cell_type": "code",
   "execution_count": 55,
   "id": "9b104e5f",
   "metadata": {},
   "outputs": [],
   "source": [
    "X = train.drop(['Survived'],axis=1) \n",
    "#X = train[train.columns.difference(['Survived'])] \n",
    "y = train['Survived'] "
   ]
  },
  {
   "cell_type": "code",
   "execution_count": 56,
   "id": "2cdbb530",
   "metadata": {
    "scrolled": true
   },
   "outputs": [
    {
     "name": "stdout",
     "output_type": "stream",
     "text": [
      "(712, 14) (179, 14) (712,) (179,)\n"
     ]
    }
   ],
   "source": [
    "# 시계열 데이터일 때는 shuffle = False\n",
    "X_train,X_test,y_train,y_test = train_test_split(X,y,test_size=0.2,random_state=1234)\n",
    "print(X_train.shape,X_test.shape,y_train.shape,y_test.shape)"
   ]
  },
  {
   "cell_type": "markdown",
   "id": "8adc8c47",
   "metadata": {},
   "source": [
    "### 4-2. 모델 선정 & 학습 & 예측 & 평가"
   ]
  },
  {
   "cell_type": "markdown",
   "id": "3381ab27",
   "metadata": {},
   "source": [
    "랜덤포레스트는 결정트리기반 모델이며, 여러 결정 트리들을 앙상블한 모델입니다."
   ]
  },
  {
   "cell_type": "code",
   "execution_count": 57,
   "id": "c006631d",
   "metadata": {},
   "outputs": [],
   "source": [
    "#다중 클래스 분류에서는 average = 'macro' 옵션을 사용한다. \n",
    "def my_fun(y_test,y_vld):\n",
    "    report = classification_report(y_test,y_vld)\n",
    "    print(report)\n",
    "    #[None,'micro','macro','weighted']\n",
    "    acc = accuracy_score(y_test,y_vld)\n",
    "    precision = precision_score(y_test,y_vld,average = 'macro') #일반적으로 macro쓴다.\n",
    "    recall = recall_score(y_test,y_vld,average = 'macro')\n",
    "    f1 = f1_score(y_test,y_vld,average = 'macro')\n",
    "    print(f\"정확도 {acc:.4f} 정밀도 {precision:.4f} 재현률 {recall:.4f} f1 {f1:.4f}\")"
   ]
  },
  {
   "cell_type": "code",
   "execution_count": 58,
   "id": "8ca0c2da",
   "metadata": {},
   "outputs": [
    {
     "name": "stdout",
     "output_type": "stream",
     "text": [
      "------------------------------------------------------------\n",
      "RandomForestClassifier\n",
      "              precision    recall  f1-score   support\n",
      "\n",
      "           0       0.82      0.91      0.86       109\n",
      "           1       0.83      0.70      0.76        70\n",
      "\n",
      "    accuracy                           0.83       179\n",
      "   macro avg       0.83      0.80      0.81       179\n",
      "weighted avg       0.83      0.83      0.82       179\n",
      "\n",
      "정확도 0.8268 정밀도 0.8278 재현률 0.8041 f1 0.8122\n",
      "------------------------------------------------------------\n",
      "LogisticRegression\n",
      "              precision    recall  f1-score   support\n",
      "\n",
      "           0       0.82      0.90      0.86       109\n",
      "           1       0.82      0.70      0.75        70\n",
      "\n",
      "    accuracy                           0.82       179\n",
      "   macro avg       0.82      0.80      0.81       179\n",
      "weighted avg       0.82      0.82      0.82       179\n",
      "\n",
      "정확도 0.8212 정밀도 0.8201 재현률 0.7995 f1 0.8067\n",
      "------------------------------------------------------------\n",
      "KNeighborsClassifier\n",
      "              precision    recall  f1-score   support\n",
      "\n",
      "           0       0.75      0.86      0.80       109\n",
      "           1       0.72      0.54      0.62        70\n",
      "\n",
      "    accuracy                           0.74       179\n",
      "   macro avg       0.73      0.70      0.71       179\n",
      "weighted avg       0.73      0.74      0.73       179\n",
      "\n",
      "정확도 0.7374 정밀도 0.7315 재현률 0.7026 f1 0.7089\n",
      "------------------------------------------------------------\n",
      "KNeighborsClassifier\n",
      "              precision    recall  f1-score   support\n",
      "\n",
      "           0       0.75      0.86      0.80       109\n",
      "           1       0.72      0.54      0.62        70\n",
      "\n",
      "    accuracy                           0.74       179\n",
      "   macro avg       0.73      0.70      0.71       179\n",
      "weighted avg       0.73      0.74      0.73       179\n",
      "\n",
      "정확도 0.7374 정밀도 0.7315 재현률 0.7026 f1 0.7089\n",
      "------------------------------------------------------------\n",
      "DecisionTreeClassifier\n",
      "              precision    recall  f1-score   support\n",
      "\n",
      "           0       0.81      0.87      0.84       109\n",
      "           1       0.77      0.69      0.73        70\n",
      "\n",
      "    accuracy                           0.80       179\n",
      "   macro avg       0.79      0.78      0.78       179\n",
      "weighted avg       0.80      0.80      0.80       179\n",
      "\n",
      "정확도 0.7989 정밀도 0.7931 재현률 0.7786 f1 0.7840\n",
      "------------------------------------------------------------\n",
      "LinearSVC\n",
      "              precision    recall  f1-score   support\n",
      "\n",
      "           0       0.89      0.75      0.82       109\n",
      "           1       0.69      0.86      0.76        70\n",
      "\n",
      "    accuracy                           0.79       179\n",
      "   macro avg       0.79      0.80      0.79       179\n",
      "weighted avg       0.81      0.79      0.80       179\n",
      "\n",
      "정확도 0.7933 정밀도 0.7905 재현률 0.8047 f1 0.7901\n"
     ]
    }
   ],
   "source": [
    "from sklearn.ensemble import RandomForestClassifier\n",
    "from sklearn.linear_model import LogisticRegression\n",
    "from sklearn.neighbors import KNeighborsClassifier\n",
    "from sklearn.tree import DecisionTreeClassifier\n",
    "from sklearn.svm import LinearSVC\n",
    "from sklearn.metrics import classification_report,confusion_matrix,accuracy_score,precision_score,recall_score,f1_score\n",
    "from sklearn.metrics import precision_recall_curve\n",
    "from sklearn.metrics import roc_auc_score,roc_curve \n",
    "\n",
    "\n",
    "model_list=[RandomForestClassifier(n_estimators=100,random_state=1234),\n",
    "            LogisticRegression(penalty='l2',random_state=1234),\n",
    "            KNeighborsClassifier(),\n",
    "            KNeighborsClassifier(),\n",
    "            DecisionTreeClassifier(),\n",
    "            LinearSVC()]\n",
    "\n",
    "for model in model_list:\n",
    "    model.fit(X_train,y_train) #모델 학습\n",
    "    y_vld = model.predict(X_test)\n",
    "    acc_score = accuracy_score(y_test,y_vld)\n",
    "    print(\"---\"*20)\n",
    "    print(f\"{model.__class__.__name__}\") \n",
    "    my_fun(y_test,y_vld)\n"
   ]
  },
  {
   "cell_type": "raw",
   "id": "974c078f",
   "metadata": {},
   "source": [
    "from sklearn.ensemble import RandomForestClassifier\n",
    "from sklearn.linear_model import LogisticRegression\n",
    "from sklearn.neighbors import KNeighborsClassifier\n",
    "from sklearn.tree import DecisionTreeClassifier\n",
    "from sklearn.svm import LinearSVC\n",
    "\n",
    "\n",
    "model_list=[RandomForestClassifier(n_estimators=100,random_state=1234),\n",
    "            LogisticRegression(penalty='l2',random_state=1234),\n",
    "            KNeighborsClassifier(),\n",
    "            KNeighborsClassifier(),\n",
    "            DecisionTreeClassifier(),\n",
    "            LinearSVC()]\n",
    "\n",
    "for model in model_list:\n",
    "    model.fit(X_train,y_train) #모델 학습\n",
    "    y_vld = model.predict(X_test)\n",
    "    acc_score = accuracy_score(y_test,y_vld)\n",
    "    print(f\"{model.__class__.__name__} \\t\\t 정확도:{acc_score:.4f}\") "
   ]
  },
  {
   "cell_type": "markdown",
   "id": "44f66b52",
   "metadata": {},
   "source": [
    "### 분류모델 평가 지표"
   ]
  },
  {
   "cell_type": "code",
   "execution_count": 59,
   "id": "3901d238",
   "metadata": {},
   "outputs": [],
   "source": [
    "#y_true\n",
    "from sklearn.metrics import classification_report,confusion_matrix,accuracy_score,precision_score,recall_score,f1_score\n",
    "from sklearn.metrics import precision_recall_curve #y_true,probas_pred\n",
    "from sklearn.metrics import roc_auc_score,roc_curve "
   ]
  },
  {
   "cell_type": "code",
   "execution_count": 60,
   "id": "2380d557",
   "metadata": {},
   "outputs": [
    {
     "data": {
      "text/plain": [
       "array([[82, 27],\n",
       "       [10, 60]], dtype=int64)"
      ]
     },
     "execution_count": 60,
     "metadata": {},
     "output_type": "execute_result"
    }
   ],
   "source": [
    "confusion_matrix(y_test,y_vld) #오분류표"
   ]
  },
  {
   "cell_type": "markdown",
   "id": "2c64ffb4",
   "metadata": {},
   "source": [
    "<img src='confusion 2.png'>\n",
    "\n",
    "\n",
    "여기서 문제점은 생존자를 죽었다고 예측했기 때문에, 정확도가 떨어짐 </br>\n",
    "왜? 죽은 사람의 데이터가 많기 때문에, 이에 유리하게 학습 됨.</br>\n",
    "해결방법: 생존 데이터 증폭"
   ]
  },
  {
   "cell_type": "markdown",
   "id": "813f3b72",
   "metadata": {},
   "source": [
    "데이터를 증폭시킬 때(오버 샘플링) knn사용 // 데이터 버릴 때는 언더 샘플링"
   ]
  },
  {
   "cell_type": "code",
   "execution_count": 61,
   "id": "e5d9c0d8",
   "metadata": {
    "scrolled": true
   },
   "outputs": [
    {
     "name": "stdout",
     "output_type": "stream",
     "text": [
      "              precision    recall  f1-score   support\n",
      "\n",
      "           0       0.89      0.75      0.82       109\n",
      "           1       0.69      0.86      0.76        70\n",
      "\n",
      "    accuracy                           0.79       179\n",
      "   macro avg       0.79      0.80      0.79       179\n",
      "weighted avg       0.81      0.79      0.80       179\n",
      "\n"
     ]
    }
   ],
   "source": [
    "# 간략하게 한 번에 볼 때 사용. 잘 사용 안함\n",
    "report = classification_report(y_test,y_vld) \n",
    "print(report)"
   ]
  },
  {
   "cell_type": "code",
   "execution_count": 62,
   "id": "a5acb525",
   "metadata": {},
   "outputs": [
    {
     "name": "stdout",
     "output_type": "stream",
     "text": [
      "정확도 0.7933 정밀도 0.6897 재현률 0.8571 f1 0.7643\n"
     ]
    }
   ],
   "source": [
    "acc = accuracy_score(y_test,y_vld)\n",
    "precision = precision_score(y_test,y_vld)\n",
    "recall = recall_score(y_test,y_vld)\n",
    "f1 = f1_score(y_test,y_vld)\n",
    "\n",
    "print(f\"정확도 {acc:.4f} 정밀도 {precision:.4f} 재현률 {recall:.4f} f1 {f1:.4f}\")"
   ]
  },
  {
   "cell_type": "code",
   "execution_count": 63,
   "id": "2fa5c211",
   "metadata": {},
   "outputs": [
    {
     "name": "stdout",
     "output_type": "stream",
     "text": [
      "0.8268156424581006\n",
      "정답 [1 0 0 1 0]\n",
      "[1, 0, 0, 1, 0]\n",
      "예측 [1 0 0 1 0]\n",
      "예측확률 [[0.02       0.98      ]\n",
      " [0.97778175 0.02221825]\n",
      " [0.985      0.015     ]\n",
      " [0.01       0.99      ]\n",
      " [0.73       0.27      ]]\n"
     ]
    }
   ],
   "source": [
    "#연습용\n",
    "model = RandomForestClassifier()\n",
    "model.fit(X_train, y_train)  #---학습해라\n",
    "pred = model.predict(X_test)\n",
    "proba= model.predict_proba(X_test)\n",
    "accuracy = accuracy_score(y_test, pred)\n",
    "print(accuracy)\n",
    "\n",
    "print(\"정답\",y_test[:5].values) ##series를 array로 바꾸는 방법 values 쓰기. 중요!!\n",
    "print(y_test[:5].to_list())\n",
    "print(\"예측\",pred[:5]) \n",
    "print(\"예측확률\",proba[:5])  #0이 나올 확률은 0.03, 1이 나올 확률은 0.97 ~"
   ]
  },
  {
   "cell_type": "code",
   "execution_count": 64,
   "id": "650be8a9",
   "metadata": {
    "scrolled": true
   },
   "outputs": [
    {
     "name": "stdout",
     "output_type": "stream",
     "text": [
      "[0.39106145 0.43670886 0.43949045 0.44230769 0.44370861] [1.         0.98571429 0.98571429 0.98571429 0.95714286] [0.    0.005 0.006 0.01  0.015]\n",
      "87 87 86\n"
     ]
    },
    {
     "data": {
      "image/png": "[encoded data removed]",
      "text/plain": [
       "<Figure size 432x288 with 1 Axes>"
      ]
     },
     "metadata": {
      "needs_background": "light"
     },
     "output_type": "display_data"
    }
   ],
   "source": [
    "# precision,recall은 trade off관계\n",
    "precision,recall,th = precision_recall_curve(y_test,proba[:,1])\n",
    "print(precision[:5],recall[:5],th[:5])\n",
    "print(len(precision),len(recall),len(th))\n",
    "\n",
    " \n",
    "plt.xlabel('threadhold') #임계값\n",
    "plt.ylabel('score')\n",
    "plt.plot(th,precision[:len(th)],'red',linestyle = '--',label = 'precision')\n",
    "plt.plot(th,recall[:len(th)],'blue',label = 'recall')\n",
    "plt.legend()\n",
    "plt.show()"
   ]
  },
  {
   "cell_type": "markdown",
   "id": "828dbab1",
   "metadata": {},
   "source": [
    "최적의 임계값은 0.3xx. 임계값을 낮추면 정밀도는 낮아지고 재현율은 올라간다. \n",
    "임계값을 높이면 정밀도는 올라가고 재현율은 낮아진다. "
   ]
  },
  {
   "cell_type": "code",
   "execution_count": 65,
   "id": "14e89045",
   "metadata": {},
   "outputs": [
    {
     "name": "stdout",
     "output_type": "stream",
     "text": [
      "[0.39106145 0.43670886 0.43949045 0.44230769 0.44370861] [1.         0.98571429 0.98571429 0.98571429 0.95714286] [2.   1.   0.99 0.98 0.97]\n",
      "87 87 63\n"
     ]
    },
    {
     "data": {
      "image/png": "[encoded data removed]",
      "text/plain": [
       "<Figure size 432x288 with 1 Axes>"
      ]
     },
     "metadata": {
      "needs_background": "light"
     },
     "output_type": "display_data"
    }
   ],
   "source": [
    "## 연습용 roc_curve( )\n",
    "fpr,tpr,th = roc_curve(y_test,proba[:,1])\n",
    "print(precision[:5],recall[:5],th[:5])\n",
    "print(len(precision),len(recall),len(th))\n",
    "\n",
    " \n",
    "plt.xlabel('FPR-False Positive') \n",
    "plt.ylabel('TPR-True Positive ')\n",
    "plt.plot(fpr,tpr,'red',label = 'rate')\n",
    "plt.plot([0,1],[0,1],'blue',linestyle = '--',label = 'th0.5')\n",
    "plt.legend()\n",
    "plt.show()"
   ]
  },
  {
   "cell_type": "markdown",
   "id": "5d2bb57c",
   "metadata": {},
   "source": [
    "### 연습용 : th 조절\n",
    "-- 점수를 높이기 위해 roc curve까지 확인했다면, 임계치를 조정해보자!\n",
    "\n",
    "* sklearn Default threadholds > 0.5 ---> 0.5보다 커야 1로 예측"
   ]
  },
  {
   "cell_type": "code",
   "execution_count": 74,
   "id": "2664acd7",
   "metadata": {},
   "outputs": [
    {
     "name": "stdout",
     "output_type": "stream",
     "text": [
      "재현율:0.7, 정확도:0.8268\n"
     ]
    }
   ],
   "source": [
    "from sklearn.preprocessing import Binarizer\n",
    "\n",
    "# Binarizer의 threshold 값을 0.5로 설정\n",
    "custom_threshold = 0.5\n",
    "\n",
    "# predict_proba() 결과 값의 두 번째 컬럼, \n",
    "#즉 Positive 클래스의 컬럼 하나만 추출하여 Binarizer를 적용\n",
    "proba_1 = proba[:,1].reshape(-1,1)\n",
    "\n",
    "binarizer=Binarizer(threshold=custom_threshold).fit(proba_1)\n",
    "custom_pred = binarizer.transform(proba_1)\n",
    "\n",
    "recall=recall_score(y_test, custom_pred)\n",
    "acc=accuracy_score(y_test, custom_pred)\n",
    "\n",
    "print(f\"재현율:{recall}, 정확도:{acc:.4f}\")"
   ]
  },
  {
   "cell_type": "code",
   "execution_count": 76,
   "id": "e3980bd2",
   "metadata": {},
   "outputs": [
    {
     "name": "stdout",
     "output_type": "stream",
     "text": [
      "재현율:0.7429, 정확도:0.8156\n"
     ]
    }
   ],
   "source": [
    "from sklearn.preprocessing import Binarizer\n",
    "\n",
    "# Binarizer의 threshold 값을 0.4로 설정\n",
    "custom_threshold = 0.4\n",
    "\n",
    "# predict_proba() 결과 값의 두 번째 컬럼, \n",
    "#즉 Positive 클래스의 컬럼 하나만 추출하여 Binarizer를 적용\n",
    "proba_1 = proba[:,1].reshape(-1,1)\n",
    "\n",
    "binarizer=Binarizer(threshold=custom_threshold).fit(proba_1)\n",
    "custom_pred = binarizer.transform(proba_1)\n",
    "\n",
    "recall=recall_score(y_test, custom_pred)\n",
    "acc=accuracy_score(y_test, custom_pred)\n",
    "\n",
    "print(f\"재현율:{recall:.4f}, 정확도:{acc:.4f}\")"
   ]
  },
  {
   "cell_type": "markdown",
   "id": "f86f405e",
   "metadata": {},
   "source": [
    "<수업용 필기>"
   ]
  },
  {
   "cell_type": "code",
   "execution_count": 70,
   "id": "3c0097c2",
   "metadata": {},
   "outputs": [
    {
     "name": "stdout",
     "output_type": "stream",
     "text": [
      "model.predict_proba() \n",
      " [[0.03       0.97      ]\n",
      " [0.98246429 0.01753571]\n",
      " [1.         0.        ]\n",
      " [0.04       0.96      ]\n",
      " [0.7        0.3       ]\n",
      " [0.74       0.26      ]\n",
      " [0.15       0.85      ]\n",
      " [0.57       0.43      ]\n",
      " [0.8        0.2       ]\n",
      " [0.35       0.65      ]]\n",
      "[ True False False  True False False  True False False  True]\n",
      "[1 0 0 1 0 0 1 0 0 1]\n",
      "[1 0 0 1 0 0 1 0 0 1]\n"
     ]
    }
   ],
   "source": [
    "proba = model.predict_proba(X_test[:10])\n",
    "print(\"model.predict_proba() \\n\", proba)\n",
    "print(  (proba[:,1]>0.5))\n",
    "print(  (proba[:,1]>0.5).astype(int))\n",
    "\n",
    "print(  (proba[:,1]>0.47).astype(int))"
   ]
  },
  {
   "cell_type": "markdown",
   "id": "b1e2f074",
   "metadata": {},
   "source": [
    "--- \n",
    "<pre>\n",
    "proba = model.predict_proba(X_test)\n",
    "<b>proba                        proba[:,1]>0.5    proba[:,1]>0.47</b>\n",
    " [[0.         1.        ]    1                 1 \n",
    " [0.84162351 0.15837649]     0                 0\n",
    " [0.99857143 0.00142857]     0                 0\n",
    " [0.1        0.9       ]     1                 1\n",
    " <font color=red>\n",
    " [0.5105     0.4895    ]     0                 1\n",
    " [0.51       0.49      ]     0                 1\n",
    " </font>\n",
    " [0.136      0.864     ]     1                 1\n",
    " [0.69333333 0.30666667]     0                 0\n",
    " [0.86088074 0.13911926]     0                 0\n",
    " [0.09752778 0.90247222]]    1                 1\n",
    "</pre>\n",
    "---"
   ]
  },
  {
   "cell_type": "code",
   "execution_count": 71,
   "id": "9b652b21",
   "metadata": {},
   "outputs": [
    {
     "name": "stdout",
     "output_type": "stream",
     "text": [
      "         FPR       TPR        TH      DIFF\n",
      "63  0.770642  0.971429  0.020000  0.200786\n",
      "64  0.788991  0.971429  0.017536  0.182438\n",
      "65  0.807339  0.985714  0.010000  0.178375\n",
      "66  0.834862  0.985714  0.002500  0.150852\n",
      "67  1.000000  1.000000  0.000000  0.000000\n"
     ]
    },
    {
     "data": {
      "text/html": [
       "<div>\n",
       "<style scoped>\n",
       "    .dataframe tbody tr th:only-of-type {\n",
       "        vertical-align: middle;\n",
       "    }\n",
       "\n",
       "    .dataframe tbody tr th {\n",
       "        vertical-align: top;\n",
       "    }\n",
       "\n",
       "    .dataframe thead th {\n",
       "        text-align: right;\n",
       "    }\n",
       "</style>\n",
       "<table border=\"1\" class=\"dataframe\">\n",
       "  <thead>\n",
       "    <tr style=\"text-align: right;\">\n",
       "      <th></th>\n",
       "      <th>FPR</th>\n",
       "      <th>TPR</th>\n",
       "      <th>TH</th>\n",
       "      <th>DIFF</th>\n",
       "    </tr>\n",
       "  </thead>\n",
       "  <tbody>\n",
       "    <tr>\n",
       "      <th>39</th>\n",
       "      <td>0.201835</td>\n",
       "      <td>0.871429</td>\n",
       "      <td>0.31</td>\n",
       "      <td>0.669594</td>\n",
       "    </tr>\n",
       "  </tbody>\n",
       "</table>\n",
       "</div>"
      ],
      "text/plain": [
       "         FPR       TPR    TH      DIFF\n",
       "39  0.201835  0.871429  0.31  0.669594"
      ]
     },
     "execution_count": 71,
     "metadata": {},
     "output_type": "execute_result"
    }
   ],
   "source": [
    "roc_df = pd.DataFrame(\n",
    "    {\n",
    "    'FPR'  : fpr, \n",
    "    'TPR'  : tpr, \n",
    "    'TH'   : th,\n",
    "    'DIFF' : tpr - fpr}\n",
    ")\n",
    "print(roc_df.tail())\n",
    "                  \n",
    "roc_df[roc_df['DIFF'] == roc_df['DIFF'].max()]"
   ]
  },
  {
   "cell_type": "code",
   "execution_count": 72,
   "id": "78f95b87",
   "metadata": {},
   "outputs": [
    {
     "name": "stdout",
     "output_type": "stream",
     "text": [
      "0.31\n",
      "[[0.98246429 0.01753571]\n",
      " [1.         0.        ]\n",
      " [0.04       0.96      ]\n",
      " [0.7        0.3       ]\n",
      " [0.74       0.26      ]]\n",
      "[0 0 1 0 0]\n",
      "[0 0 1 0 0]\n"
     ]
    }
   ],
   "source": [
    "# opt_th = 0.4383333333333333\n",
    "opt_th = roc_df[roc_df['DIFF'] == roc_df['DIFF'].max()]['TH'].values[0]\n",
    "\n",
    "print(opt_th)\n",
    "\n",
    "proba = model.predict_proba(X_test)\n",
    "print(proba[1:6])\n",
    "pred = model.predict(X_test)\n",
    "print(pred[1:6])\n",
    "# -----------------------------------\n",
    "re_proba = proba[:,1] >= opt_th   #  > 0.438333\n",
    "print(re_proba[1:6].astype(int))"
   ]
  },
  {
   "cell_type": "markdown",
   "id": "757b1b01",
   "metadata": {},
   "source": [
    "### 임계치 조정 후 점수 확인"
   ]
  },
  {
   "cell_type": "code",
   "execution_count": 74,
   "id": "b7377170",
   "metadata": {},
   "outputs": [
    {
     "name": "stdout",
     "output_type": "stream",
     "text": [
      "              precision    recall  f1-score   support\n",
      "\n",
      "           0       0.84      0.91      0.87       109\n",
      "           1       0.84      0.73      0.78        70\n",
      "\n",
      "    accuracy                           0.84       179\n",
      "   macro avg       0.84      0.82      0.83       179\n",
      "weighted avg       0.84      0.84      0.84       179\n",
      "\n",
      "정확도 0.8380 정밀도 0.8375 재현률 0.8184 f1 0.8254\n",
      "------------------------------------------------------------\n",
      "              precision    recall  f1-score   support\n",
      "\n",
      "           0       0.91      0.80      0.85       109\n",
      "           1       0.73      0.87      0.80        70\n",
      "\n",
      "    accuracy                           0.83       179\n",
      "   macro avg       0.82      0.83      0.82       179\n",
      "weighted avg       0.84      0.83      0.83       179\n",
      "\n",
      "정확도 0.8268 정밀도 0.8206 재현률 0.8348 f1 0.8231\n"
     ]
    }
   ],
   "source": [
    "proba = model.predict_proba(X_test)\n",
    "my_fun(y_test, pred)\n",
    "print(\"--\" * 30)\n",
    "\n",
    "re_proba = proba[:,1] >= opt_th   #  > 0.438333\n",
    "my_fun(y_test, re_proba)\n"
   ]
  },
  {
   "cell_type": "markdown",
   "id": "924b9267",
   "metadata": {},
   "source": [
    "<pre>\n",
    "RandomForestClassifier정확도 : 0.810056\n",
    "LogisticRegression정확도 : 0.821229\n",
    "KNeighborsClassifier정확도 : 0.709497\n",
    "DecisionTreeClassifier정확도 : 0.793296\n",
    "LinearSVC정확도 : 0.759777\n",
    "-----------------------------------------------평균나이 , Name_title\n",
    "RandomForestClassifier \t\t 정확도:0.8268\n",
    "LogisticRegression \t\t 정확도:0.8492\n",
    "KNeighborsClassifier \t\t 정확도:0.7263\n",
    "DecisionTreeClassifier \t\t 정확도:0.7989\n",
    "LinearSVC \t\t 정확도:0.7430\n",
    "----------------------------------------------- alone family 파생변수 추가\n",
    "RandomForestClassifier \t\t 정확도:0.8268\n",
    "LogisticRegression \t\t 정확도:0.8324\n",
    "KNeighborsClassifier \t\t 정확도:0.7263\n",
    "DecisionTreeClassifier \t\t 정확도:0.7933\n",
    "LinearSVC \t\t 정확도:0.8101\n",
    "RandomForestClassifier정확도 : 0.81005\n",
    "----------------------------------------------- family 파생변수 추가\n",
    "RandomForestClassifier \t\t 정확도:0.8324\n",
    "LogisticRegression \t\t 정확도:0.8380\n",
    "KNeighborsClassifier \t\t 정확도:0.7207\n",
    "DecisionTreeClassifier \t\t 정확도:0.8045\n",
    "LinearSVC \t\t 정확도:0.6201\n",
    "----------------------------------------------- family 파생변수 추가, 요금구간화\n",
    "RandomForestClassifier \t\t 정확도:0.8380\n",
    "LogisticRegression \t\t 정확도:0.8212\n",
    "KNeighborsClassifier \t\t 정확도:0.7933\n",
    "DecisionTreeClassifier \t\t 정확도:0.7821\n",
    "LinearSVC \t\t 정확도:0.8101\n",
    "-----------------------------------------------  Fare , family, Age 구간화\n",
    "RandomForestClassifier \t\t 정확도:0.8492\n",
    "LogisticRegression \t\t 정확도:0.8324\n",
    "KNeighborsClassifier \t\t 정확도:0.8101\n",
    "DecisionTreeClassifier \t\t 정확도:0.8156\n",
    "LinearSVC \t\t 정확도:0.8324\n"
   ]
  },
  {
   "cell_type": "markdown",
   "id": "151b2473",
   "metadata": {},
   "source": [
    "### 모델튜닝 & 검증"
   ]
  },
  {
   "cell_type": "code",
   "execution_count": 59,
   "id": "7a46ee47",
   "metadata": {},
   "outputs": [],
   "source": [
    "## 가공, 모델, 데이터 증강\n",
    "## 모델튜닝 ... 도구"
   ]
  }
 ],
 "metadata": {
  "kernelspec": {
   "display_name": "Python 3 (ipykernel)",
   "language": "python",
   "name": "python3"
  },
  "language_info": {
   "codemirror_mode": {
    "name": "ipython",
    "version": 3
   },
   "file_extension": ".py",
   "mimetype": "text/x-python",
   "name": "python",
   "nbconvert_exporter": "python",
   "pygments_lexer": "ipython3",
   "version": "3.8.8"
  }
 },
 "nbformat": 4,
 "nbformat_minor": 5
}
