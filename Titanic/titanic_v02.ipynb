{
 "cells": [
  {
   "cell_type": "markdown",
   "id": "2d8035b7-5ba8-4a46-a0ca-eb663847cbaf",
   "metadata": {},
   "source": [
    "<img src=./logo.png><br>\n",
    "* ref : https://www.kaggle.com/c/titanic"
   ]
  },
  {
   "cell_type": "code",
   "execution_count": 186,
   "id": "aba0b6f0-760c-4685-b76e-0cba503c9222",
   "metadata": {},
   "outputs": [],
   "source": [
    "import pandas as pd\n",
    "import numpy as np\n",
    "import matplotlib.pyplot as plt\n",
    "\n",
    "from sklearn.preprocessing import LabelEncoder, OneHotEncoder\n",
    "from sklearn.model_selection import train_test_split\n",
    "from sklearn.ensemble import RandomForestClassifier\n",
    "from sklearn.linear_model import LogisticRegression\n",
    "from sklearn.neighbors import KNeighborsClassifier\n",
    "from sklearn.tree import DecisionTreeClassifier\n",
    "from sklearn.svm import LinearSVC\n",
    "from sklearn.metrics import accuracy_score\n",
    "\n",
    "import warnings\n",
    "warnings.filterwarnings(action='ignore')\n"
   ]
  },
  {
   "cell_type": "markdown",
   "id": "26a666bf-b87a-4e3c-8193-10155ce01fe4",
   "metadata": {},
   "source": [
    "# Data Load"
   ]
  },
  {
   "cell_type": "code",
   "execution_count": 187,
   "id": "fb4b9cff-ae08-4497-82b6-f61c776e861c",
   "metadata": {},
   "outputs": [],
   "source": [
    "train = pd.read_csv(\"./dataset/train.csv\")"
   ]
  },
  {
   "cell_type": "code",
   "execution_count": 188,
   "id": "910fc9f5-4c5a-4c35-9683-87b0b4555d58",
   "metadata": {},
   "outputs": [
    {
     "name": "stdout",
     "output_type": "stream",
     "text": [
      "(891, 12)\n",
      "<class 'pandas.core.frame.DataFrame'>\n",
      "RangeIndex: 891 entries, 0 to 890\n",
      "Data columns (total 12 columns):\n",
      " #   Column       Non-Null Count  Dtype  \n",
      "---  ------       --------------  -----  \n",
      " 0   PassengerId  891 non-null    int64  \n",
      " 1   Survived     891 non-null    int64  \n",
      " 2   Pclass       891 non-null    int64  \n",
      " 3   Name         891 non-null    object \n",
      " 4   Sex          891 non-null    object \n",
      " 5   Age          714 non-null    float64\n",
      " 6   SibSp        891 non-null    int64  \n",
      " 7   Parch        891 non-null    int64  \n",
      " 8   Ticket       891 non-null    object \n",
      " 9   Fare         891 non-null    float64\n",
      " 10  Cabin        204 non-null    object \n",
      " 11  Embarked     889 non-null    object \n",
      "dtypes: float64(2), int64(5), object(5)\n",
      "memory usage: 83.7+ KB\n",
      "None\n"
     ]
    },
    {
     "data": {
      "text/html": [
       "<div>\n",
       "<style scoped>\n",
       "    .dataframe tbody tr th:only-of-type {\n",
       "        vertical-align: middle;\n",
       "    }\n",
       "\n",
       "    .dataframe tbody tr th {\n",
       "        vertical-align: top;\n",
       "    }\n",
       "\n",
       "    .dataframe thead th {\n",
       "        text-align: right;\n",
       "    }\n",
       "</style>\n",
       "<table border=\"1\" class=\"dataframe\">\n",
       "  <thead>\n",
       "    <tr style=\"text-align: right;\">\n",
       "      <th></th>\n",
       "      <th>PassengerId</th>\n",
       "      <th>Survived</th>\n",
       "      <th>Pclass</th>\n",
       "      <th>Name</th>\n",
       "      <th>Sex</th>\n",
       "      <th>Age</th>\n",
       "      <th>SibSp</th>\n",
       "      <th>Parch</th>\n",
       "      <th>Ticket</th>\n",
       "      <th>Fare</th>\n",
       "      <th>Cabin</th>\n",
       "      <th>Embarked</th>\n",
       "    </tr>\n",
       "  </thead>\n",
       "  <tbody>\n",
       "    <tr>\n",
       "      <th>0</th>\n",
       "      <td>1</td>\n",
       "      <td>0</td>\n",
       "      <td>3</td>\n",
       "      <td>Braund, Mr. Owen Harris</td>\n",
       "      <td>male</td>\n",
       "      <td>22.0</td>\n",
       "      <td>1</td>\n",
       "      <td>0</td>\n",
       "      <td>A/5 21171</td>\n",
       "      <td>7.2500</td>\n",
       "      <td>NaN</td>\n",
       "      <td>S</td>\n",
       "    </tr>\n",
       "    <tr>\n",
       "      <th>1</th>\n",
       "      <td>2</td>\n",
       "      <td>1</td>\n",
       "      <td>1</td>\n",
       "      <td>Cumings, Mrs. John Bradley (Florence Briggs Th...</td>\n",
       "      <td>female</td>\n",
       "      <td>38.0</td>\n",
       "      <td>1</td>\n",
       "      <td>0</td>\n",
       "      <td>PC 17599</td>\n",
       "      <td>71.2833</td>\n",
       "      <td>C85</td>\n",
       "      <td>C</td>\n",
       "    </tr>\n",
       "    <tr>\n",
       "      <th>2</th>\n",
       "      <td>3</td>\n",
       "      <td>1</td>\n",
       "      <td>3</td>\n",
       "      <td>Heikkinen, Miss. Laina</td>\n",
       "      <td>female</td>\n",
       "      <td>26.0</td>\n",
       "      <td>0</td>\n",
       "      <td>0</td>\n",
       "      <td>STON/O2. 3101282</td>\n",
       "      <td>7.9250</td>\n",
       "      <td>NaN</td>\n",
       "      <td>S</td>\n",
       "    </tr>\n",
       "    <tr>\n",
       "      <th>3</th>\n",
       "      <td>4</td>\n",
       "      <td>1</td>\n",
       "      <td>1</td>\n",
       "      <td>Futrelle, Mrs. Jacques Heath (Lily May Peel)</td>\n",
       "      <td>female</td>\n",
       "      <td>35.0</td>\n",
       "      <td>1</td>\n",
       "      <td>0</td>\n",
       "      <td>113803</td>\n",
       "      <td>53.1000</td>\n",
       "      <td>C123</td>\n",
       "      <td>S</td>\n",
       "    </tr>\n",
       "    <tr>\n",
       "      <th>4</th>\n",
       "      <td>5</td>\n",
       "      <td>0</td>\n",
       "      <td>3</td>\n",
       "      <td>Allen, Mr. William Henry</td>\n",
       "      <td>male</td>\n",
       "      <td>35.0</td>\n",
       "      <td>0</td>\n",
       "      <td>0</td>\n",
       "      <td>373450</td>\n",
       "      <td>8.0500</td>\n",
       "      <td>NaN</td>\n",
       "      <td>S</td>\n",
       "    </tr>\n",
       "  </tbody>\n",
       "</table>\n",
       "</div>"
      ],
      "text/plain": [
       "   PassengerId  Survived  Pclass  \\\n",
       "0            1         0       3   \n",
       "1            2         1       1   \n",
       "2            3         1       3   \n",
       "3            4         1       1   \n",
       "4            5         0       3   \n",
       "\n",
       "                                                Name     Sex   Age  SibSp  \\\n",
       "0                            Braund, Mr. Owen Harris    male  22.0      1   \n",
       "1  Cumings, Mrs. John Bradley (Florence Briggs Th...  female  38.0      1   \n",
       "2                             Heikkinen, Miss. Laina  female  26.0      0   \n",
       "3       Futrelle, Mrs. Jacques Heath (Lily May Peel)  female  35.0      1   \n",
       "4                           Allen, Mr. William Henry    male  35.0      0   \n",
       "\n",
       "   Parch            Ticket     Fare Cabin Embarked  \n",
       "0      0         A/5 21171   7.2500   NaN        S  \n",
       "1      0          PC 17599  71.2833   C85        C  \n",
       "2      0  STON/O2. 3101282   7.9250   NaN        S  \n",
       "3      0            113803  53.1000  C123        S  \n",
       "4      0            373450   8.0500   NaN        S  "
      ]
     },
     "execution_count": 188,
     "metadata": {},
     "output_type": "execute_result"
    }
   ],
   "source": [
    "print(train.shape)\n",
    "print(train.info())\n",
    "train.head()"
   ]
  },
  {
   "cell_type": "code",
   "execution_count": null,
   "id": "1270dfea-c64b-4623-9980-30fce372c818",
   "metadata": {},
   "outputs": [],
   "source": []
  },
  {
   "cell_type": "markdown",
   "id": "ea37afa8-02e1-4da6-bbbf-5302a4e7cb53",
   "metadata": {
    "tags": []
   },
   "source": [
    "# EDA : 사전 데이터 탐색"
   ]
  },
  {
   "cell_type": "markdown",
   "id": "9c0fdd3b-a1b3-4209-8a0a-07ae80684813",
   "metadata": {},
   "source": [
    "## Survived : Traget Feature"
   ]
  },
  {
   "cell_type": "code",
   "execution_count": 189,
   "id": "c3451603-3a67-47d1-83eb-66bfb798833f",
   "metadata": {},
   "outputs": [
    {
     "data": {
      "text/plain": [
       "0    549\n",
       "1    342\n",
       "Name: Survived, dtype: int64"
      ]
     },
     "execution_count": 189,
     "metadata": {},
     "output_type": "execute_result"
    }
   ],
   "source": [
    "train[\"Survived\"].value_counts()"
   ]
  },
  {
   "cell_type": "markdown",
   "id": "9c69d74c-f655-4d2f-8716-5821ee6bab4b",
   "metadata": {
    "tags": []
   },
   "source": [
    "## 레코드수 == 유니크수\n",
    "* 대체로 분석 대상에서 제외(삭제)"
   ]
  },
  {
   "cell_type": "markdown",
   "id": "64788670-24d6-4dc9-8c57-b5b0fbec52e0",
   "metadata": {},
   "source": [
    "* 간결 :  결측 or 유니크값"
   ]
  },
  {
   "cell_type": "code",
   "execution_count": 190,
   "id": "d03785ee-df78-41cf-9f1c-dfc16a38f403",
   "metadata": {},
   "outputs": [
    {
     "name": "stdout",
     "output_type": "stream",
     "text": [
      "Age         177\n",
      "Cabin       687\n",
      "Embarked      2\n",
      "dtype: int64\n",
      "------------------------------\n",
      "PassengerId    891\n",
      "Name           891\n",
      "Ticket         681\n",
      "dtype: int64\n"
     ]
    }
   ],
   "source": [
    "print(train.isna().sum()  [train.isna().sum() >0  ] )\n",
    "print(\"---\"*10)\n",
    "print(train.nunique()     [train.nunique()  >= 650] )   #by 황지현"
   ]
  },
  {
   "cell_type": "code",
   "execution_count": 191,
   "id": "e1471f13-de9a-4f43-b7d2-77753474f859",
   "metadata": {},
   "outputs": [
    {
     "data": {
      "text/html": [
       "<div>\n",
       "<style scoped>\n",
       "    .dataframe tbody tr th:only-of-type {\n",
       "        vertical-align: middle;\n",
       "    }\n",
       "\n",
       "    .dataframe tbody tr th {\n",
       "        vertical-align: top;\n",
       "    }\n",
       "\n",
       "    .dataframe thead th {\n",
       "        text-align: right;\n",
       "    }\n",
       "</style>\n",
       "<table border=\"1\" class=\"dataframe\">\n",
       "  <thead>\n",
       "    <tr style=\"text-align: right;\">\n",
       "      <th></th>\n",
       "      <th>0</th>\n",
       "      <th>3</th>\n",
       "      <th>8</th>\n",
       "      <th>9</th>\n",
       "      <th>10</th>\n",
       "      <th>5</th>\n",
       "      <th>6</th>\n",
       "      <th>7</th>\n",
       "      <th>2</th>\n",
       "      <th>11</th>\n",
       "      <th>1</th>\n",
       "      <th>4</th>\n",
       "    </tr>\n",
       "  </thead>\n",
       "  <tbody>\n",
       "    <tr>\n",
       "      <th>컬럼</th>\n",
       "      <td>PassengerId</td>\n",
       "      <td>Name</td>\n",
       "      <td>Ticket</td>\n",
       "      <td>Fare</td>\n",
       "      <td>Cabin</td>\n",
       "      <td>Age</td>\n",
       "      <td>SibSp</td>\n",
       "      <td>Parch</td>\n",
       "      <td>Pclass</td>\n",
       "      <td>Embarked</td>\n",
       "      <td>Survived</td>\n",
       "      <td>Sex</td>\n",
       "    </tr>\n",
       "    <tr>\n",
       "      <th>카운트</th>\n",
       "      <td>891</td>\n",
       "      <td>891</td>\n",
       "      <td>681</td>\n",
       "      <td>248</td>\n",
       "      <td>147</td>\n",
       "      <td>88</td>\n",
       "      <td>7</td>\n",
       "      <td>7</td>\n",
       "      <td>3</td>\n",
       "      <td>3</td>\n",
       "      <td>2</td>\n",
       "      <td>2</td>\n",
       "    </tr>\n",
       "    <tr>\n",
       "      <th>비율</th>\n",
       "      <td>100.0</td>\n",
       "      <td>100.0</td>\n",
       "      <td>76.4</td>\n",
       "      <td>27.8</td>\n",
       "      <td>16.5</td>\n",
       "      <td>9.9</td>\n",
       "      <td>0.8</td>\n",
       "      <td>0.8</td>\n",
       "      <td>0.3</td>\n",
       "      <td>0.3</td>\n",
       "      <td>0.2</td>\n",
       "      <td>0.2</td>\n",
       "    </tr>\n",
       "  </tbody>\n",
       "</table>\n",
       "</div>"
      ],
      "text/plain": [
       "              0      3       8     9      10   5      6      7       2   \\\n",
       "컬럼   PassengerId   Name  Ticket  Fare  Cabin  Age  SibSp  Parch  Pclass   \n",
       "카운트          891    891     681   248    147   88      7      7       3   \n",
       "비율         100.0  100.0    76.4  27.8   16.5  9.9    0.8    0.8     0.3   \n",
       "\n",
       "           11        1    4   \n",
       "컬럼   Embarked  Survived  Sex  \n",
       "카운트         3         2    2  \n",
       "비율        0.3       0.2  0.2  "
      ]
     },
     "execution_count": 191,
     "metadata": {},
     "output_type": "execute_result"
    }
   ],
   "source": [
    "def my_dfcheck(prm='null'):  #파라미터 : 'null' 또는 'unique'\n",
    "    if prm == 'unique':\n",
    "        s = train.nunique()\n",
    "    else:\n",
    "        s = train.isna().sum()\n",
    "    \n",
    "    rate = np.round( (s.values  / len(train)) *100,  1)\n",
    "    dic = {\"컬럼\":s.index , \"카운트\":s.values, \"비율\":rate}\n",
    "    df = pd.DataFrame(dic).sort_values('카운트', ascending=False)\n",
    "    return df.T\n",
    "\n",
    "# my_dfcheck ('null')\n",
    "my_dfcheck('unique')"
   ]
  },
  {
   "cell_type": "code",
   "execution_count": null,
   "id": "53662312-0d4d-4854-91d8-6f7e5bb8e9f3",
   "metadata": {},
   "outputs": [],
   "source": []
  },
  {
   "cell_type": "markdown",
   "id": "363e0065-e2f7-4fa3-ac85-7a9be9a16561",
   "metadata": {},
   "source": [
    "* Ticket이 생존과 관련이 있는지 확인 == '무의미함'으로 결론냄(삭제)"
   ]
  },
  {
   "cell_type": "code",
   "execution_count": 192,
   "id": "4951d992-9370-4d6b-b358-5f7a245db2b2",
   "metadata": {},
   "outputs": [
    {
     "data": {
      "text/plain": [
       "Ticket            Embarked\n",
       "CA. 2343          S           7\n",
       "347082            S           7\n",
       "1601              S           7\n",
       "347088            S           6\n",
       "3101295           S           6\n",
       "                             ..\n",
       "SOTON/O2 3101287  S           1\n",
       "SW/PP 751         S           1\n",
       "STON/O2. 3101283  S           1\n",
       "STON/O2. 3101282  S           1\n",
       "347466            S           1\n",
       "Length: 682, dtype: int64"
      ]
     },
     "execution_count": 192,
     "metadata": {},
     "output_type": "execute_result"
    }
   ],
   "source": [
    "train[['Ticket', 'Survived']].value_counts().sort_values(ascending=False)\n",
    "train[['Ticket', 'Embarked']].value_counts().sort_values(ascending=False)"
   ]
  },
  {
   "cell_type": "code",
   "execution_count": null,
   "id": "9b402b30-9a04-4884-b5cf-59eaeb8647b3",
   "metadata": {},
   "outputs": [],
   "source": []
  },
  {
   "cell_type": "code",
   "execution_count": null,
   "id": "983f3292-8e60-4545-bd2f-788d6c3fb28f",
   "metadata": {},
   "outputs": [],
   "source": []
  },
  {
   "cell_type": "code",
   "execution_count": null,
   "id": "35ec4390-4251-44af-9667-36cbd8f042ee",
   "metadata": {},
   "outputs": [],
   "source": []
  },
  {
   "cell_type": "code",
   "execution_count": null,
   "id": "e8f1c35c-5469-4458-af50-93f61b3ad9b8",
   "metadata": {},
   "outputs": [],
   "source": []
  },
  {
   "cell_type": "code",
   "execution_count": null,
   "id": "ce879fd7-7f7b-4c98-96b9-fa350aa72695",
   "metadata": {},
   "outputs": [],
   "source": []
  },
  {
   "cell_type": "code",
   "execution_count": 193,
   "id": "e7189a7b-9b9d-4d1e-a4be-069767ef4884",
   "metadata": {},
   "outputs": [],
   "source": [
    "# train.head(2)   "
   ]
  },
  {
   "cell_type": "markdown",
   "id": "7cd65769-2898-484d-a65f-718a0b703d68",
   "metadata": {},
   "source": [
    "# 피쳐 가공 (Feature Engineering & Preprocessing)"
   ]
  },
  {
   "cell_type": "markdown",
   "id": "b7f98c69-c528-409c-bde4-f5f2a1a67d9f",
   "metadata": {
    "tags": []
   },
   "source": [
    "## 피쳐가공 : 결측 처리\n",
    "\n",
    "* 11  Embarked    889 non-null    object  - 최빈도S\n",
    "* 10  Cabin          204 non-null    object  - 공백처리, drop미정\n",
    "*  5   Age            714 non-null    float64 - Name호칭별평균나이\n",
    "\t\t\t\t   -Ticket-Parch아이2"
   ]
  },
  {
   "cell_type": "markdown",
   "id": "067ef764-6f2b-46ae-8442-f5452e702e21",
   "metadata": {},
   "source": [
    "### Embarked  : 최빈도 채우기"
   ]
  },
  {
   "cell_type": "code",
   "execution_count": 194,
   "id": "966e2bdb-e961-44c9-9faf-101ad777c7ef",
   "metadata": {},
   "outputs": [
    {
     "name": "stdout",
     "output_type": "stream",
     "text": [
      "0\n"
     ]
    }
   ],
   "source": [
    "mode_var = train['Embarked'].mode().values[0]\n",
    "train['Embarked'] = train['Embarked'].fillna( mode_var )  # 'S'\n",
    "print(train['Embarked'].isna().sum())"
   ]
  },
  {
   "cell_type": "code",
   "execution_count": 195,
   "id": "9ce799b0-680d-40d7-812f-1ab64066663a",
   "metadata": {},
   "outputs": [
    {
     "data": {
      "text/html": [
       "<div>\n",
       "<style scoped>\n",
       "    .dataframe tbody tr th:only-of-type {\n",
       "        vertical-align: middle;\n",
       "    }\n",
       "\n",
       "    .dataframe tbody tr th {\n",
       "        vertical-align: top;\n",
       "    }\n",
       "\n",
       "    .dataframe thead th {\n",
       "        text-align: right;\n",
       "    }\n",
       "</style>\n",
       "<table border=\"1\" class=\"dataframe\">\n",
       "  <thead>\n",
       "    <tr style=\"text-align: right;\">\n",
       "      <th>Survived</th>\n",
       "      <th>0</th>\n",
       "      <th>1</th>\n",
       "    </tr>\n",
       "    <tr>\n",
       "      <th>Embarked</th>\n",
       "      <th></th>\n",
       "      <th></th>\n",
       "    </tr>\n",
       "  </thead>\n",
       "  <tbody>\n",
       "    <tr>\n",
       "      <th>C</th>\n",
       "      <td>75</td>\n",
       "      <td>93</td>\n",
       "    </tr>\n",
       "    <tr>\n",
       "      <th>Q</th>\n",
       "      <td>47</td>\n",
       "      <td>30</td>\n",
       "    </tr>\n",
       "    <tr>\n",
       "      <th>S</th>\n",
       "      <td>427</td>\n",
       "      <td>219</td>\n",
       "    </tr>\n",
       "  </tbody>\n",
       "</table>\n",
       "</div>"
      ],
      "text/plain": [
       "Survived    0    1\n",
       "Embarked          \n",
       "C          75   93\n",
       "Q          47   30\n",
       "S         427  219"
      ]
     },
     "execution_count": 195,
     "metadata": {},
     "output_type": "execute_result"
    }
   ],
   "source": [
    "pd.crosstab(train['Embarked'], train['Survived'])"
   ]
  },
  {
   "cell_type": "markdown",
   "id": "2d81b9ab-8bd7-4426-8b64-1227c9486980",
   "metadata": {
    "tags": []
   },
   "source": [
    "### Age : Name 호칭을 사용해 그들의 평균 나이로 채우기"
   ]
  },
  {
   "cell_type": "markdown",
   "id": "6882f210-b791-47c0-8c2b-06f508b0373a",
   "metadata": {},
   "source": [
    "* gropuby 값을 이용해 fillna()할 경우 transform() 사용\n",
    "* train['Age'].apply()  train['Age'].transform()\n",
    "* train.groupby(\"pclass\")['Age'].apply() vs. train.groupby(\"pclass\")['Age'].transform()\n",
    "* https://steadiness-193.tistory.com/42"
   ]
  },
  {
   "cell_type": "code",
   "execution_count": 196,
   "id": "b7ccd1db-ca37-42e2-a25f-911bad88d062",
   "metadata": {},
   "outputs": [],
   "source": [
    "# avg_age = train['Age'].mean()\n",
    "# train['Age'] = train['Age'].fillna(avg_age).astype('int')   #------df 컬럼 캐스팅"
   ]
  },
  {
   "cell_type": "code",
   "execution_count": 197,
   "id": "b4b5a2ad-b6d3-4909-b8a6-d4df2a7e5c70",
   "metadata": {},
   "outputs": [
    {
     "data": {
      "text/html": [
       "<div>\n",
       "<style scoped>\n",
       "    .dataframe tbody tr th:only-of-type {\n",
       "        vertical-align: middle;\n",
       "    }\n",
       "\n",
       "    .dataframe tbody tr th {\n",
       "        vertical-align: top;\n",
       "    }\n",
       "\n",
       "    .dataframe thead th {\n",
       "        text-align: right;\n",
       "    }\n",
       "</style>\n",
       "<table border=\"1\" class=\"dataframe\">\n",
       "  <thead>\n",
       "    <tr style=\"text-align: right;\">\n",
       "      <th></th>\n",
       "      <th>Name_title</th>\n",
       "      <th>Name</th>\n",
       "    </tr>\n",
       "  </thead>\n",
       "  <tbody>\n",
       "    <tr>\n",
       "      <th>0</th>\n",
       "      <td>Mr</td>\n",
       "      <td>Braund, Mr. Owen Harris</td>\n",
       "    </tr>\n",
       "    <tr>\n",
       "      <th>1</th>\n",
       "      <td>Mrs</td>\n",
       "      <td>Cumings, Mrs. John Bradley (Florence Briggs Th...</td>\n",
       "    </tr>\n",
       "    <tr>\n",
       "      <th>2</th>\n",
       "      <td>Miss</td>\n",
       "      <td>Heikkinen, Miss. Laina</td>\n",
       "    </tr>\n",
       "    <tr>\n",
       "      <th>3</th>\n",
       "      <td>Mrs</td>\n",
       "      <td>Futrelle, Mrs. Jacques Heath (Lily May Peel)</td>\n",
       "    </tr>\n",
       "    <tr>\n",
       "      <th>4</th>\n",
       "      <td>Mr</td>\n",
       "      <td>Allen, Mr. William Henry</td>\n",
       "    </tr>\n",
       "  </tbody>\n",
       "</table>\n",
       "</div>"
      ],
      "text/plain": [
       "  Name_title                                               Name\n",
       "0         Mr                            Braund, Mr. Owen Harris\n",
       "1        Mrs  Cumings, Mrs. John Bradley (Florence Briggs Th...\n",
       "2       Miss                             Heikkinen, Miss. Laina\n",
       "3        Mrs       Futrelle, Mrs. Jacques Heath (Lily May Peel)\n",
       "4         Mr                           Allen, Mr. William Henry"
      ]
     },
     "execution_count": 197,
     "metadata": {},
     "output_type": "execute_result"
    }
   ],
   "source": [
    "train['Name_title'] = train['Name'].str.extract(' ([A-Za-z]+)[.]', expand=False)\n",
    "train[['Name_title', 'Name']].head()"
   ]
  },
  {
   "cell_type": "code",
   "execution_count": 198,
   "id": "303e2339-6ba5-430b-a161-5d0a50ec6032",
   "metadata": {},
   "outputs": [
    {
     "data": {
      "text/plain": [
       "Name_title\n",
       "Mr            517\n",
       "Miss          182\n",
       "Mrs           125\n",
       "Master         40\n",
       "Dr              7\n",
       "Rev             6\n",
       "Major           2\n",
       "Col             2\n",
       "Mlle            2\n",
       "Mme             1\n",
       "Ms              1\n",
       "Capt            1\n",
       "Lady            1\n",
       "Jonkheer        1\n",
       "Don             1\n",
       "Countess        1\n",
       "Sir             1\n",
       "dtype: int64"
      ]
     },
     "execution_count": 198,
     "metadata": {},
     "output_type": "execute_result"
    }
   ],
   "source": [
    "#pd.crosstab(train[\"Name_title\"], train['Age'])\n",
    "train[[\"Name_title\"]].value_counts()"
   ]
  },
  {
   "cell_type": "code",
   "execution_count": 199,
   "id": "85931932-93d5-4017-ab0d-2c1908e9311f",
   "metadata": {},
   "outputs": [
    {
     "data": {
      "text/html": [
       "<div>\n",
       "<style scoped>\n",
       "    .dataframe tbody tr th:only-of-type {\n",
       "        vertical-align: middle;\n",
       "    }\n",
       "\n",
       "    .dataframe tbody tr th {\n",
       "        vertical-align: top;\n",
       "    }\n",
       "\n",
       "    .dataframe thead th {\n",
       "        text-align: right;\n",
       "    }\n",
       "</style>\n",
       "<table border=\"1\" class=\"dataframe\">\n",
       "  <thead>\n",
       "    <tr style=\"text-align: right;\">\n",
       "      <th>Age</th>\n",
       "      <th>False</th>\n",
       "      <th>True</th>\n",
       "    </tr>\n",
       "    <tr>\n",
       "      <th>Name_title</th>\n",
       "      <th></th>\n",
       "      <th></th>\n",
       "    </tr>\n",
       "  </thead>\n",
       "  <tbody>\n",
       "    <tr>\n",
       "      <th>Capt</th>\n",
       "      <td>1</td>\n",
       "      <td>0</td>\n",
       "    </tr>\n",
       "    <tr>\n",
       "      <th>Col</th>\n",
       "      <td>2</td>\n",
       "      <td>0</td>\n",
       "    </tr>\n",
       "    <tr>\n",
       "      <th>Countess</th>\n",
       "      <td>1</td>\n",
       "      <td>0</td>\n",
       "    </tr>\n",
       "    <tr>\n",
       "      <th>Don</th>\n",
       "      <td>1</td>\n",
       "      <td>0</td>\n",
       "    </tr>\n",
       "    <tr>\n",
       "      <th>Dr</th>\n",
       "      <td>6</td>\n",
       "      <td>1</td>\n",
       "    </tr>\n",
       "    <tr>\n",
       "      <th>Jonkheer</th>\n",
       "      <td>1</td>\n",
       "      <td>0</td>\n",
       "    </tr>\n",
       "    <tr>\n",
       "      <th>Lady</th>\n",
       "      <td>1</td>\n",
       "      <td>0</td>\n",
       "    </tr>\n",
       "    <tr>\n",
       "      <th>Major</th>\n",
       "      <td>2</td>\n",
       "      <td>0</td>\n",
       "    </tr>\n",
       "    <tr>\n",
       "      <th>Master</th>\n",
       "      <td>36</td>\n",
       "      <td>4</td>\n",
       "    </tr>\n",
       "    <tr>\n",
       "      <th>Miss</th>\n",
       "      <td>146</td>\n",
       "      <td>36</td>\n",
       "    </tr>\n",
       "    <tr>\n",
       "      <th>Mlle</th>\n",
       "      <td>2</td>\n",
       "      <td>0</td>\n",
       "    </tr>\n",
       "    <tr>\n",
       "      <th>Mme</th>\n",
       "      <td>1</td>\n",
       "      <td>0</td>\n",
       "    </tr>\n",
       "    <tr>\n",
       "      <th>Mr</th>\n",
       "      <td>398</td>\n",
       "      <td>119</td>\n",
       "    </tr>\n",
       "    <tr>\n",
       "      <th>Mrs</th>\n",
       "      <td>108</td>\n",
       "      <td>17</td>\n",
       "    </tr>\n",
       "    <tr>\n",
       "      <th>Ms</th>\n",
       "      <td>1</td>\n",
       "      <td>0</td>\n",
       "    </tr>\n",
       "    <tr>\n",
       "      <th>Rev</th>\n",
       "      <td>6</td>\n",
       "      <td>0</td>\n",
       "    </tr>\n",
       "    <tr>\n",
       "      <th>Sir</th>\n",
       "      <td>1</td>\n",
       "      <td>0</td>\n",
       "    </tr>\n",
       "  </tbody>\n",
       "</table>\n",
       "</div>"
      ],
      "text/plain": [
       "Age         False  True\n",
       "Name_title             \n",
       "Capt            1     0\n",
       "Col             2     0\n",
       "Countess        1     0\n",
       "Don             1     0\n",
       "Dr              6     1\n",
       "Jonkheer        1     0\n",
       "Lady            1     0\n",
       "Major           2     0\n",
       "Master         36     4\n",
       "Miss          146    36\n",
       "Mlle            2     0\n",
       "Mme             1     0\n",
       "Mr            398   119\n",
       "Mrs           108    17\n",
       "Ms              1     0\n",
       "Rev             6     0\n",
       "Sir             1     0"
      ]
     },
     "execution_count": 199,
     "metadata": {},
     "output_type": "execute_result"
    }
   ],
   "source": [
    "pd.crosstab(train[\"Name_title\"],train[\"Age\"].isna())"
   ]
  },
  {
   "cell_type": "markdown",
   "id": "08a185f5-c2de-4dfa-be67-9a3355b775c7",
   "metadata": {},
   "source": [
    "* 중복 의미의 호칭 정리\n",
    "<pre>\n",
    " Mme  Mlle  --> Mrs\n",
    " Ms   Lady  --> Miss"
   ]
  },
  {
   "cell_type": "code",
   "execution_count": 200,
   "id": "a5d6d3a2-7f0b-4b93-b274-0b6edd4a004e",
   "metadata": {},
   "outputs": [],
   "source": [
    "train[\"Name_title\"].replace(\"Mme\", \"Mrs\", inplace=True)\n",
    "train[\"Name_title\"].replace(\"Mlle\", \"Mrs\", inplace=True)\n",
    "train[\"Name_title\"].replace(\"Ms\", \"Miss\", inplace=True)\n",
    "train[\"Name_title\"].replace(\"Lady\", \"Miss\", inplace=True)"
   ]
  },
  {
   "cell_type": "code",
   "execution_count": 201,
   "id": "8b16541f-2d1c-46b1-b6df-6132e103d260",
   "metadata": {},
   "outputs": [
    {
     "data": {
      "text/plain": [
       "array(['Mr', 'Mrs', 'Miss', 'Master', 'Don', 'Rev', 'Dr', 'Major', 'Sir',\n",
       "       'Col', 'Capt', 'Countess', 'Jonkheer'], dtype=object)"
      ]
     },
     "execution_count": 201,
     "metadata": {},
     "output_type": "execute_result"
    }
   ],
   "source": [
    "train[\"Name_title\"].unique()"
   ]
  },
  {
   "cell_type": "code",
   "execution_count": 202,
   "id": "51e09896-5d0c-4b23-ac80-db6b0622716a",
   "metadata": {},
   "outputs": [],
   "source": [
    "train[\"Age\"] = train[\"Age\"].fillna(train.groupby(by=\"Name_title\")[\"Age\"].transform(\"mean\"))"
   ]
  },
  {
   "cell_type": "code",
   "execution_count": 203,
   "id": "11109f86-e7af-4f10-a019-86e7281d4bcb",
   "metadata": {},
   "outputs": [
    {
     "data": {
      "text/plain": [
       "0"
      ]
     },
     "execution_count": 203,
     "metadata": {},
     "output_type": "execute_result"
    }
   ],
   "source": [
    "train['Age'].isna().sum()"
   ]
  },
  {
   "cell_type": "code",
   "execution_count": 204,
   "id": "dcf89a14-8dbc-459f-9edd-85fb4901346a",
   "metadata": {},
   "outputs": [
    {
     "data": {
      "text/plain": [
       "0    22.0\n",
       "1    38.0\n",
       "2    26.0\n",
       "3    35.0\n",
       "4    35.0\n",
       "Name: Age, dtype: float64"
      ]
     },
     "execution_count": 204,
     "metadata": {},
     "output_type": "execute_result"
    }
   ],
   "source": [
    "train['Age'].head()"
   ]
  },
  {
   "cell_type": "markdown",
   "id": "d0f64018-4d13-4be5-9dc6-cf82eb9019de",
   "metadata": {},
   "source": [
    "* 이름에서 꺼낸 호칭 인코딩(글자 --> 숫자)"
   ]
  },
  {
   "cell_type": "code",
   "execution_count": 205,
   "id": "b314bab5-65b7-458e-a9db-03391ae5d0b1",
   "metadata": {},
   "outputs": [
    {
     "data": {
      "text/plain": [
       "3    517\n",
       "2    184\n",
       "4    128\n",
       "1     40\n",
       "6     14\n",
       "5      6\n",
       "0      2\n",
       "Name: Name_title, dtype: int64"
      ]
     },
     "execution_count": 205,
     "metadata": {},
     "output_type": "execute_result"
    }
   ],
   "source": [
    "pd.crosstab(train[\"Name_title\"], train[\"Survived\"])\n",
    "\n",
    "title_dict = {'Major':0, 'Master':1,'Miss':2, 'Mr':3, 'Mrs':4, 'Rev':5,\n",
    "              'Capt':6, 'Col':6, 'Countess':6, 'Don':6, 'Dr':6, 'Jonkheer':6, 'Sir':6 }\n",
    "train[\"Name_title\"] = train[\"Name_title\"].map(title_dict)\n",
    "train[\"Name_title\"].value_counts()"
   ]
  },
  {
   "cell_type": "markdown",
   "id": "f14f5db1-f811-491b-8b33-0edbdaaf6ab0",
   "metadata": {},
   "source": [
    "### Cabin : 공백처리\n",
    "* 점수를 봐가며 삭제 여부 결정\n",
    "* Pclass=1 인 승객 대부분이 Cabin을 가지고 있다\n",
    "* 삭제여부 미정 : Pclass 하나만 봐도 된다\n",
    "* A~T 세분화되어 있어서  C1 , C2 , C3"
   ]
  },
  {
   "cell_type": "code",
   "execution_count": 206,
   "id": "3a0ace13-fd82-494d-a114-686f08bf785c",
   "metadata": {},
   "outputs": [
    {
     "data": {
      "text/plain": [
       "array([nan, 'C85', 'C123', 'E46', 'G6'], dtype=object)"
      ]
     },
     "execution_count": 206,
     "metadata": {},
     "output_type": "execute_result"
    }
   ],
   "source": [
    "pd.unique(train['Cabin'])[:5]"
   ]
  },
  {
   "cell_type": "code",
   "execution_count": 207,
   "id": "061b9252-ad45-48a4-9464-6efd937c6900",
   "metadata": {},
   "outputs": [],
   "source": [
    "train['Cabin'] = train['Cabin'].str[0:1]"
   ]
  },
  {
   "cell_type": "code",
   "execution_count": 208,
   "id": "abd28e96-54bd-44e9-8826-699eacd1008a",
   "metadata": {},
   "outputs": [
    {
     "data": {
      "text/html": [
       "<div>\n",
       "<style scoped>\n",
       "    .dataframe tbody tr th:only-of-type {\n",
       "        vertical-align: middle;\n",
       "    }\n",
       "\n",
       "    .dataframe tbody tr th {\n",
       "        vertical-align: top;\n",
       "    }\n",
       "\n",
       "    .dataframe thead th {\n",
       "        text-align: right;\n",
       "    }\n",
       "</style>\n",
       "<table border=\"1\" class=\"dataframe\">\n",
       "  <thead>\n",
       "    <tr style=\"text-align: right;\">\n",
       "      <th>Pclass</th>\n",
       "      <th>1</th>\n",
       "      <th>2</th>\n",
       "      <th>3</th>\n",
       "    </tr>\n",
       "    <tr>\n",
       "      <th>Cabin</th>\n",
       "      <th></th>\n",
       "      <th></th>\n",
       "      <th></th>\n",
       "    </tr>\n",
       "  </thead>\n",
       "  <tbody>\n",
       "    <tr>\n",
       "      <th>A</th>\n",
       "      <td>15</td>\n",
       "      <td>0</td>\n",
       "      <td>0</td>\n",
       "    </tr>\n",
       "    <tr>\n",
       "      <th>B</th>\n",
       "      <td>47</td>\n",
       "      <td>0</td>\n",
       "      <td>0</td>\n",
       "    </tr>\n",
       "    <tr>\n",
       "      <th>C</th>\n",
       "      <td>59</td>\n",
       "      <td>0</td>\n",
       "      <td>0</td>\n",
       "    </tr>\n",
       "    <tr>\n",
       "      <th>D</th>\n",
       "      <td>29</td>\n",
       "      <td>4</td>\n",
       "      <td>0</td>\n",
       "    </tr>\n",
       "    <tr>\n",
       "      <th>E</th>\n",
       "      <td>25</td>\n",
       "      <td>4</td>\n",
       "      <td>3</td>\n",
       "    </tr>\n",
       "    <tr>\n",
       "      <th>F</th>\n",
       "      <td>0</td>\n",
       "      <td>8</td>\n",
       "      <td>5</td>\n",
       "    </tr>\n",
       "    <tr>\n",
       "      <th>G</th>\n",
       "      <td>0</td>\n",
       "      <td>0</td>\n",
       "      <td>4</td>\n",
       "    </tr>\n",
       "    <tr>\n",
       "      <th>T</th>\n",
       "      <td>1</td>\n",
       "      <td>0</td>\n",
       "      <td>0</td>\n",
       "    </tr>\n",
       "  </tbody>\n",
       "</table>\n",
       "</div>"
      ],
      "text/plain": [
       "Pclass   1  2  3\n",
       "Cabin           \n",
       "A       15  0  0\n",
       "B       47  0  0\n",
       "C       59  0  0\n",
       "D       29  4  0\n",
       "E       25  4  3\n",
       "F        0  8  5\n",
       "G        0  0  4\n",
       "T        1  0  0"
      ]
     },
     "execution_count": 208,
     "metadata": {},
     "output_type": "execute_result"
    }
   ],
   "source": [
    "pd.crosstab(train['Cabin'], train['Pclass'] )"
   ]
  },
  {
   "cell_type": "code",
   "execution_count": 209,
   "id": "849e2ff5-54d3-4131-8e74-fb49fe213719",
   "metadata": {},
   "outputs": [
    {
     "data": {
      "text/html": [
       "<div>\n",
       "<style scoped>\n",
       "    .dataframe tbody tr th:only-of-type {\n",
       "        vertical-align: middle;\n",
       "    }\n",
       "\n",
       "    .dataframe tbody tr th {\n",
       "        vertical-align: top;\n",
       "    }\n",
       "\n",
       "    .dataframe thead th {\n",
       "        text-align: right;\n",
       "    }\n",
       "</style>\n",
       "<table border=\"1\" class=\"dataframe\">\n",
       "  <thead>\n",
       "    <tr style=\"text-align: right;\">\n",
       "      <th>Survived</th>\n",
       "      <th>0</th>\n",
       "      <th>1</th>\n",
       "    </tr>\n",
       "    <tr>\n",
       "      <th>Cabin</th>\n",
       "      <th></th>\n",
       "      <th></th>\n",
       "    </tr>\n",
       "  </thead>\n",
       "  <tbody>\n",
       "    <tr>\n",
       "      <th>A</th>\n",
       "      <td>8</td>\n",
       "      <td>7</td>\n",
       "    </tr>\n",
       "    <tr>\n",
       "      <th>B</th>\n",
       "      <td>12</td>\n",
       "      <td>35</td>\n",
       "    </tr>\n",
       "    <tr>\n",
       "      <th>C</th>\n",
       "      <td>24</td>\n",
       "      <td>35</td>\n",
       "    </tr>\n",
       "    <tr>\n",
       "      <th>D</th>\n",
       "      <td>8</td>\n",
       "      <td>25</td>\n",
       "    </tr>\n",
       "    <tr>\n",
       "      <th>E</th>\n",
       "      <td>8</td>\n",
       "      <td>24</td>\n",
       "    </tr>\n",
       "    <tr>\n",
       "      <th>F</th>\n",
       "      <td>5</td>\n",
       "      <td>8</td>\n",
       "    </tr>\n",
       "    <tr>\n",
       "      <th>G</th>\n",
       "      <td>2</td>\n",
       "      <td>2</td>\n",
       "    </tr>\n",
       "    <tr>\n",
       "      <th>T</th>\n",
       "      <td>1</td>\n",
       "      <td>0</td>\n",
       "    </tr>\n",
       "  </tbody>\n",
       "</table>\n",
       "</div>"
      ],
      "text/plain": [
       "Survived   0   1\n",
       "Cabin           \n",
       "A          8   7\n",
       "B         12  35\n",
       "C         24  35\n",
       "D          8  25\n",
       "E          8  24\n",
       "F          5   8\n",
       "G          2   2\n",
       "T          1   0"
      ]
     },
     "execution_count": 209,
     "metadata": {},
     "output_type": "execute_result"
    }
   ],
   "source": [
    "pd.crosstab(train['Cabin'], train['Survived'] )"
   ]
  },
  {
   "cell_type": "code",
   "execution_count": 210,
   "id": "7271c4d9-5a41-45a7-bf05-70531f95885e",
   "metadata": {},
   "outputs": [],
   "source": [
    "train['Cabin'] = train['Cabin'].fillna('')"
   ]
  },
  {
   "cell_type": "markdown",
   "id": "462416dc-ca5d-4339-bade-d314ec14f78c",
   "metadata": {
    "tags": []
   },
   "source": [
    "## 피쳐가공 : Object 타입 numeric(수치) 타입으로 변경\n",
    "<pre>\n",
    "10  Cabin          204 non-null    object  - ??\n",
    " 4   Sex            891 non-null    object \n",
    "11  Embarked    889 non-null    object  - 최빈도S\n",
    "\n",
    "* map\n",
    "* replace\n",
    "* lambda\n"
   ]
  },
  {
   "cell_type": "markdown",
   "id": "2793c6d6-9fe3-4577-8d97-5a87755127d6",
   "metadata": {},
   "source": [
    "* 옵션 : object 타입 컬럼만 뽑아오기"
   ]
  },
  {
   "cell_type": "code",
   "execution_count": 211,
   "id": "57290c3a-776c-4ed6-8dff-6a216e5b860b",
   "metadata": {},
   "outputs": [
    {
     "name": "stdout",
     "output_type": "stream",
     "text": [
      "['Name', 'Sex', 'Ticket', 'Cabin', 'Embarked']\n"
     ]
    }
   ],
   "source": [
    "col_list = train.select_dtypes(include='object').columns.tolist()\n",
    "print(col_list)"
   ]
  },
  {
   "cell_type": "markdown",
   "id": "45a9ff6e-a07e-44ff-b464-bebfa229374e",
   "metadata": {
    "tags": []
   },
   "source": [
    "### df['col'].astype('category')"
   ]
  },
  {
   "cell_type": "code",
   "execution_count": 212,
   "id": "f8b206c3-656d-47aa-ab7a-354e8f2ec177",
   "metadata": {},
   "outputs": [
    {
     "data": {
      "text/html": [
       "<div>\n",
       "<style scoped>\n",
       "    .dataframe tbody tr th:only-of-type {\n",
       "        vertical-align: middle;\n",
       "    }\n",
       "\n",
       "    .dataframe tbody tr th {\n",
       "        vertical-align: top;\n",
       "    }\n",
       "\n",
       "    .dataframe thead th {\n",
       "        text-align: right;\n",
       "    }\n",
       "</style>\n",
       "<table border=\"1\" class=\"dataframe\">\n",
       "  <thead>\n",
       "    <tr style=\"text-align: right;\">\n",
       "      <th></th>\n",
       "      <th>PassengerId</th>\n",
       "      <th>Survived</th>\n",
       "      <th>Pclass</th>\n",
       "      <th>Name</th>\n",
       "      <th>Sex</th>\n",
       "      <th>Age</th>\n",
       "      <th>SibSp</th>\n",
       "      <th>Parch</th>\n",
       "      <th>Ticket</th>\n",
       "      <th>Fare</th>\n",
       "      <th>Cabin</th>\n",
       "      <th>Embarked</th>\n",
       "      <th>Name_title</th>\n",
       "      <th>Sex2</th>\n",
       "    </tr>\n",
       "  </thead>\n",
       "  <tbody>\n",
       "    <tr>\n",
       "      <th>0</th>\n",
       "      <td>1</td>\n",
       "      <td>0</td>\n",
       "      <td>3</td>\n",
       "      <td>Braund, Mr. Owen Harris</td>\n",
       "      <td>male</td>\n",
       "      <td>22.0</td>\n",
       "      <td>1</td>\n",
       "      <td>0</td>\n",
       "      <td>A/5 21171</td>\n",
       "      <td>7.2500</td>\n",
       "      <td>0</td>\n",
       "      <td>S</td>\n",
       "      <td>3</td>\n",
       "      <td>1</td>\n",
       "    </tr>\n",
       "    <tr>\n",
       "      <th>1</th>\n",
       "      <td>2</td>\n",
       "      <td>1</td>\n",
       "      <td>1</td>\n",
       "      <td>Cumings, Mrs. John Bradley (Florence Briggs Th...</td>\n",
       "      <td>female</td>\n",
       "      <td>38.0</td>\n",
       "      <td>1</td>\n",
       "      <td>0</td>\n",
       "      <td>PC 17599</td>\n",
       "      <td>71.2833</td>\n",
       "      <td>3</td>\n",
       "      <td>C</td>\n",
       "      <td>4</td>\n",
       "      <td>0</td>\n",
       "    </tr>\n",
       "    <tr>\n",
       "      <th>2</th>\n",
       "      <td>3</td>\n",
       "      <td>1</td>\n",
       "      <td>3</td>\n",
       "      <td>Heikkinen, Miss. Laina</td>\n",
       "      <td>female</td>\n",
       "      <td>26.0</td>\n",
       "      <td>0</td>\n",
       "      <td>0</td>\n",
       "      <td>STON/O2. 3101282</td>\n",
       "      <td>7.9250</td>\n",
       "      <td>0</td>\n",
       "      <td>S</td>\n",
       "      <td>2</td>\n",
       "      <td>0</td>\n",
       "    </tr>\n",
       "    <tr>\n",
       "      <th>3</th>\n",
       "      <td>4</td>\n",
       "      <td>1</td>\n",
       "      <td>1</td>\n",
       "      <td>Futrelle, Mrs. Jacques Heath (Lily May Peel)</td>\n",
       "      <td>female</td>\n",
       "      <td>35.0</td>\n",
       "      <td>1</td>\n",
       "      <td>0</td>\n",
       "      <td>113803</td>\n",
       "      <td>53.1000</td>\n",
       "      <td>3</td>\n",
       "      <td>S</td>\n",
       "      <td>4</td>\n",
       "      <td>0</td>\n",
       "    </tr>\n",
       "    <tr>\n",
       "      <th>4</th>\n",
       "      <td>5</td>\n",
       "      <td>0</td>\n",
       "      <td>3</td>\n",
       "      <td>Allen, Mr. William Henry</td>\n",
       "      <td>male</td>\n",
       "      <td>35.0</td>\n",
       "      <td>0</td>\n",
       "      <td>0</td>\n",
       "      <td>373450</td>\n",
       "      <td>8.0500</td>\n",
       "      <td>0</td>\n",
       "      <td>S</td>\n",
       "      <td>3</td>\n",
       "      <td>1</td>\n",
       "    </tr>\n",
       "  </tbody>\n",
       "</table>\n",
       "</div>"
      ],
      "text/plain": [
       "   PassengerId  Survived  Pclass  \\\n",
       "0            1         0       3   \n",
       "1            2         1       1   \n",
       "2            3         1       3   \n",
       "3            4         1       1   \n",
       "4            5         0       3   \n",
       "\n",
       "                                                Name     Sex   Age  SibSp  \\\n",
       "0                            Braund, Mr. Owen Harris    male  22.0      1   \n",
       "1  Cumings, Mrs. John Bradley (Florence Briggs Th...  female  38.0      1   \n",
       "2                             Heikkinen, Miss. Laina  female  26.0      0   \n",
       "3       Futrelle, Mrs. Jacques Heath (Lily May Peel)  female  35.0      1   \n",
       "4                           Allen, Mr. William Henry    male  35.0      0   \n",
       "\n",
       "   Parch            Ticket     Fare  Cabin Embarked  Name_title  Sex2  \n",
       "0      0         A/5 21171   7.2500      0        S           3     1  \n",
       "1      0          PC 17599  71.2833      3        C           4     0  \n",
       "2      0  STON/O2. 3101282   7.9250      0        S           2     0  \n",
       "3      0            113803  53.1000      3        S           4     0  \n",
       "4      0            373450   8.0500      0        S           3     1  "
      ]
     },
     "execution_count": 212,
     "metadata": {},
     "output_type": "execute_result"
    }
   ],
   "source": [
    "# train2 = train.copy()\n",
    "train['Cabin'] = train['Cabin'].astype('category').cat.codes\n",
    "train['Sex2'] = train['Sex'].astype('category').cat.codes\n",
    "train.head()"
   ]
  },
  {
   "cell_type": "markdown",
   "id": "624afe01-f717-4b3c-875f-2a402f8a4db1",
   "metadata": {},
   "source": [
    "### pd.get_dummies()\n",
    "* 결측처리  + LabelEncoder() + OneHotEncoder()"
   ]
  },
  {
   "cell_type": "code",
   "execution_count": 213,
   "id": "b47bd7a8-84e1-4e50-a59f-f72b6401d34e",
   "metadata": {},
   "outputs": [
    {
     "data": {
      "text/html": [
       "<div>\n",
       "<style scoped>\n",
       "    .dataframe tbody tr th:only-of-type {\n",
       "        vertical-align: middle;\n",
       "    }\n",
       "\n",
       "    .dataframe tbody tr th {\n",
       "        vertical-align: top;\n",
       "    }\n",
       "\n",
       "    .dataframe thead th {\n",
       "        text-align: right;\n",
       "    }\n",
       "</style>\n",
       "<table border=\"1\" class=\"dataframe\">\n",
       "  <thead>\n",
       "    <tr style=\"text-align: right;\">\n",
       "      <th></th>\n",
       "      <th>PassengerId</th>\n",
       "      <th>Survived</th>\n",
       "      <th>Pclass</th>\n",
       "      <th>Name</th>\n",
       "      <th>Age</th>\n",
       "      <th>SibSp</th>\n",
       "      <th>Parch</th>\n",
       "      <th>Ticket</th>\n",
       "      <th>Fare</th>\n",
       "      <th>Cabin</th>\n",
       "      <th>Embarked</th>\n",
       "      <th>Name_title</th>\n",
       "      <th>Sex2</th>\n",
       "      <th>Sex_female</th>\n",
       "      <th>Sex_male</th>\n",
       "    </tr>\n",
       "  </thead>\n",
       "  <tbody>\n",
       "    <tr>\n",
       "      <th>0</th>\n",
       "      <td>1</td>\n",
       "      <td>0</td>\n",
       "      <td>3</td>\n",
       "      <td>Braund, Mr. Owen Harris</td>\n",
       "      <td>22.0</td>\n",
       "      <td>1</td>\n",
       "      <td>0</td>\n",
       "      <td>A/5 21171</td>\n",
       "      <td>7.2500</td>\n",
       "      <td>0</td>\n",
       "      <td>S</td>\n",
       "      <td>3</td>\n",
       "      <td>1</td>\n",
       "      <td>0</td>\n",
       "      <td>1</td>\n",
       "    </tr>\n",
       "    <tr>\n",
       "      <th>1</th>\n",
       "      <td>2</td>\n",
       "      <td>1</td>\n",
       "      <td>1</td>\n",
       "      <td>Cumings, Mrs. John Bradley (Florence Briggs Th...</td>\n",
       "      <td>38.0</td>\n",
       "      <td>1</td>\n",
       "      <td>0</td>\n",
       "      <td>PC 17599</td>\n",
       "      <td>71.2833</td>\n",
       "      <td>3</td>\n",
       "      <td>C</td>\n",
       "      <td>4</td>\n",
       "      <td>0</td>\n",
       "      <td>1</td>\n",
       "      <td>0</td>\n",
       "    </tr>\n",
       "    <tr>\n",
       "      <th>2</th>\n",
       "      <td>3</td>\n",
       "      <td>1</td>\n",
       "      <td>3</td>\n",
       "      <td>Heikkinen, Miss. Laina</td>\n",
       "      <td>26.0</td>\n",
       "      <td>0</td>\n",
       "      <td>0</td>\n",
       "      <td>STON/O2. 3101282</td>\n",
       "      <td>7.9250</td>\n",
       "      <td>0</td>\n",
       "      <td>S</td>\n",
       "      <td>2</td>\n",
       "      <td>0</td>\n",
       "      <td>1</td>\n",
       "      <td>0</td>\n",
       "    </tr>\n",
       "    <tr>\n",
       "      <th>3</th>\n",
       "      <td>4</td>\n",
       "      <td>1</td>\n",
       "      <td>1</td>\n",
       "      <td>Futrelle, Mrs. Jacques Heath (Lily May Peel)</td>\n",
       "      <td>35.0</td>\n",
       "      <td>1</td>\n",
       "      <td>0</td>\n",
       "      <td>113803</td>\n",
       "      <td>53.1000</td>\n",
       "      <td>3</td>\n",
       "      <td>S</td>\n",
       "      <td>4</td>\n",
       "      <td>0</td>\n",
       "      <td>1</td>\n",
       "      <td>0</td>\n",
       "    </tr>\n",
       "    <tr>\n",
       "      <th>4</th>\n",
       "      <td>5</td>\n",
       "      <td>0</td>\n",
       "      <td>3</td>\n",
       "      <td>Allen, Mr. William Henry</td>\n",
       "      <td>35.0</td>\n",
       "      <td>0</td>\n",
       "      <td>0</td>\n",
       "      <td>373450</td>\n",
       "      <td>8.0500</td>\n",
       "      <td>0</td>\n",
       "      <td>S</td>\n",
       "      <td>3</td>\n",
       "      <td>1</td>\n",
       "      <td>0</td>\n",
       "      <td>1</td>\n",
       "    </tr>\n",
       "  </tbody>\n",
       "</table>\n",
       "</div>"
      ],
      "text/plain": [
       "   PassengerId  Survived  Pclass  \\\n",
       "0            1         0       3   \n",
       "1            2         1       1   \n",
       "2            3         1       3   \n",
       "3            4         1       1   \n",
       "4            5         0       3   \n",
       "\n",
       "                                                Name   Age  SibSp  Parch  \\\n",
       "0                            Braund, Mr. Owen Harris  22.0      1      0   \n",
       "1  Cumings, Mrs. John Bradley (Florence Briggs Th...  38.0      1      0   \n",
       "2                             Heikkinen, Miss. Laina  26.0      0      0   \n",
       "3       Futrelle, Mrs. Jacques Heath (Lily May Peel)  35.0      1      0   \n",
       "4                           Allen, Mr. William Henry  35.0      0      0   \n",
       "\n",
       "             Ticket     Fare  Cabin Embarked  Name_title  Sex2  Sex_female  \\\n",
       "0         A/5 21171   7.2500      0        S           3     1           0   \n",
       "1          PC 17599  71.2833      3        C           4     0           1   \n",
       "2  STON/O2. 3101282   7.9250      0        S           2     0           1   \n",
       "3            113803  53.1000      3        S           4     0           1   \n",
       "4            373450   8.0500      0        S           3     1           0   \n",
       "\n",
       "   Sex_male  \n",
       "0         1  \n",
       "1         0  \n",
       "2         0  \n",
       "3         0  \n",
       "4         1  "
      ]
     },
     "execution_count": 213,
     "metadata": {},
     "output_type": "execute_result"
    }
   ],
   "source": [
    "train = pd.get_dummies(train, columns=['Sex'])\n",
    "train.head()"
   ]
  },
  {
   "cell_type": "markdown",
   "id": "b3aa28c8-3886-4774-bba4-341856ef0ace",
   "metadata": {},
   "source": [
    "### df.replace()\n",
    "* df['col'].replace(['a','b'] , [1,2] , inplace=True)"
   ]
  },
  {
   "cell_type": "code",
   "execution_count": 214,
   "id": "d3e3874f-9cfb-4be9-b4c9-cc27f1c51cb4",
   "metadata": {},
   "outputs": [
    {
     "data": {
      "text/plain": [
       "1    646\n",
       "2    168\n",
       "3     77\n",
       "Name: Embarked, dtype: int64"
      ]
     },
     "execution_count": 214,
     "metadata": {},
     "output_type": "execute_result"
    }
   ],
   "source": [
    "train['Embarked'].replace(['S','C','Q'],[1,2,3], inplace=True)   #----------- inplace=True 추천\n",
    "train['Embarked'].value_counts()\n"
   ]
  },
  {
   "cell_type": "markdown",
   "id": "40572fef-49bc-405a-848e-79f68be90074",
   "metadata": {},
   "source": [
    "### df.apply(lambda)"
   ]
  },
  {
   "cell_type": "code",
   "execution_count": 215,
   "id": "b8a01279-e823-4f33-80a4-ead7e64bdb31",
   "metadata": {},
   "outputs": [],
   "source": [
    "# train['Sex3'] = train['Sex'].apply(lambda x :  1 if x == 'male'  else 0) \n",
    "# train[['Sex3','Sex']].head()"
   ]
  },
  {
   "cell_type": "code",
   "execution_count": 216,
   "id": "7e057dd9-8a39-4f97-a4b5-895de7b366fa",
   "metadata": {},
   "outputs": [],
   "source": [
    "## 피쳐 영향도 : 상관분석 \n",
    "## PCA : 차원축소\n",
    "\n",
    "## 스케일링 - 정규분포화(분류는 큰 영향이 없다)\n",
    "\n",
    "## 정규표현식\n",
    "## 바이닝(구간화)\n",
    "\n",
    "## 평균&편차 -- 파생변수\n"
   ]
  },
  {
   "cell_type": "code",
   "execution_count": 217,
   "id": "9b26d653-78a3-401a-b53c-b6f147df0946",
   "metadata": {},
   "outputs": [
    {
     "data": {
      "text/html": [
       "<div>\n",
       "<style scoped>\n",
       "    .dataframe tbody tr th:only-of-type {\n",
       "        vertical-align: middle;\n",
       "    }\n",
       "\n",
       "    .dataframe tbody tr th {\n",
       "        vertical-align: top;\n",
       "    }\n",
       "\n",
       "    .dataframe thead th {\n",
       "        text-align: right;\n",
       "    }\n",
       "</style>\n",
       "<table border=\"1\" class=\"dataframe\">\n",
       "  <thead>\n",
       "    <tr style=\"text-align: right;\">\n",
       "      <th></th>\n",
       "      <th>PassengerId</th>\n",
       "      <th>Survived</th>\n",
       "      <th>Pclass</th>\n",
       "      <th>Name</th>\n",
       "      <th>Age</th>\n",
       "      <th>SibSp</th>\n",
       "      <th>Parch</th>\n",
       "      <th>Ticket</th>\n",
       "      <th>Fare</th>\n",
       "      <th>Cabin</th>\n",
       "      <th>Embarked</th>\n",
       "      <th>Name_title</th>\n",
       "      <th>Sex2</th>\n",
       "      <th>Sex_female</th>\n",
       "      <th>Sex_male</th>\n",
       "    </tr>\n",
       "  </thead>\n",
       "  <tbody>\n",
       "    <tr>\n",
       "      <th>0</th>\n",
       "      <td>1</td>\n",
       "      <td>0</td>\n",
       "      <td>3</td>\n",
       "      <td>Braund, Mr. Owen Harris</td>\n",
       "      <td>22.0</td>\n",
       "      <td>1</td>\n",
       "      <td>0</td>\n",
       "      <td>A/5 21171</td>\n",
       "      <td>7.2500</td>\n",
       "      <td>0</td>\n",
       "      <td>1</td>\n",
       "      <td>3</td>\n",
       "      <td>1</td>\n",
       "      <td>0</td>\n",
       "      <td>1</td>\n",
       "    </tr>\n",
       "    <tr>\n",
       "      <th>1</th>\n",
       "      <td>2</td>\n",
       "      <td>1</td>\n",
       "      <td>1</td>\n",
       "      <td>Cumings, Mrs. John Bradley (Florence Briggs Th...</td>\n",
       "      <td>38.0</td>\n",
       "      <td>1</td>\n",
       "      <td>0</td>\n",
       "      <td>PC 17599</td>\n",
       "      <td>71.2833</td>\n",
       "      <td>3</td>\n",
       "      <td>2</td>\n",
       "      <td>4</td>\n",
       "      <td>0</td>\n",
       "      <td>1</td>\n",
       "      <td>0</td>\n",
       "    </tr>\n",
       "    <tr>\n",
       "      <th>2</th>\n",
       "      <td>3</td>\n",
       "      <td>1</td>\n",
       "      <td>3</td>\n",
       "      <td>Heikkinen, Miss. Laina</td>\n",
       "      <td>26.0</td>\n",
       "      <td>0</td>\n",
       "      <td>0</td>\n",
       "      <td>STON/O2. 3101282</td>\n",
       "      <td>7.9250</td>\n",
       "      <td>0</td>\n",
       "      <td>1</td>\n",
       "      <td>2</td>\n",
       "      <td>0</td>\n",
       "      <td>1</td>\n",
       "      <td>0</td>\n",
       "    </tr>\n",
       "    <tr>\n",
       "      <th>3</th>\n",
       "      <td>4</td>\n",
       "      <td>1</td>\n",
       "      <td>1</td>\n",
       "      <td>Futrelle, Mrs. Jacques Heath (Lily May Peel)</td>\n",
       "      <td>35.0</td>\n",
       "      <td>1</td>\n",
       "      <td>0</td>\n",
       "      <td>113803</td>\n",
       "      <td>53.1000</td>\n",
       "      <td>3</td>\n",
       "      <td>1</td>\n",
       "      <td>4</td>\n",
       "      <td>0</td>\n",
       "      <td>1</td>\n",
       "      <td>0</td>\n",
       "    </tr>\n",
       "    <tr>\n",
       "      <th>4</th>\n",
       "      <td>5</td>\n",
       "      <td>0</td>\n",
       "      <td>3</td>\n",
       "      <td>Allen, Mr. William Henry</td>\n",
       "      <td>35.0</td>\n",
       "      <td>0</td>\n",
       "      <td>0</td>\n",
       "      <td>373450</td>\n",
       "      <td>8.0500</td>\n",
       "      <td>0</td>\n",
       "      <td>1</td>\n",
       "      <td>3</td>\n",
       "      <td>1</td>\n",
       "      <td>0</td>\n",
       "      <td>1</td>\n",
       "    </tr>\n",
       "  </tbody>\n",
       "</table>\n",
       "</div>"
      ],
      "text/plain": [
       "   PassengerId  Survived  Pclass  \\\n",
       "0            1         0       3   \n",
       "1            2         1       1   \n",
       "2            3         1       3   \n",
       "3            4         1       1   \n",
       "4            5         0       3   \n",
       "\n",
       "                                                Name   Age  SibSp  Parch  \\\n",
       "0                            Braund, Mr. Owen Harris  22.0      1      0   \n",
       "1  Cumings, Mrs. John Bradley (Florence Briggs Th...  38.0      1      0   \n",
       "2                             Heikkinen, Miss. Laina  26.0      0      0   \n",
       "3       Futrelle, Mrs. Jacques Heath (Lily May Peel)  35.0      1      0   \n",
       "4                           Allen, Mr. William Henry  35.0      0      0   \n",
       "\n",
       "             Ticket     Fare  Cabin  Embarked  Name_title  Sex2  Sex_female  \\\n",
       "0         A/5 21171   7.2500      0         1           3     1           0   \n",
       "1          PC 17599  71.2833      3         2           4     0           1   \n",
       "2  STON/O2. 3101282   7.9250      0         1           2     0           1   \n",
       "3            113803  53.1000      3         1           4     0           1   \n",
       "4            373450   8.0500      0         1           3     1           0   \n",
       "\n",
       "   Sex_male  \n",
       "0         1  \n",
       "1         0  \n",
       "2         0  \n",
       "3         0  \n",
       "4         1  "
      ]
     },
     "execution_count": 217,
     "metadata": {},
     "output_type": "execute_result"
    }
   ],
   "source": [
    "train.head()   # "
   ]
  },
  {
   "cell_type": "markdown",
   "id": "5f1cc90f-0f4f-40da-a3da-bd618464eef1",
   "metadata": {},
   "source": [
    "## 피쳐가공 :불필요한 컬럼 모두 삭제"
   ]
  },
  {
   "cell_type": "markdown",
   "id": "9816a720-87b1-43ef-ae4e-8967c3b1945b",
   "metadata": {},
   "source": [
    "* 삭제컬럼 : col_list = ['PassengerId', 'Name', 'Ticket']"
   ]
  },
  {
   "cell_type": "code",
   "execution_count": 218,
   "id": "ad9f01cc-a0c9-4584-9e36-eb49901fc122",
   "metadata": {},
   "outputs": [
    {
     "data": {
      "text/html": [
       "<div>\n",
       "<style scoped>\n",
       "    .dataframe tbody tr th:only-of-type {\n",
       "        vertical-align: middle;\n",
       "    }\n",
       "\n",
       "    .dataframe tbody tr th {\n",
       "        vertical-align: top;\n",
       "    }\n",
       "\n",
       "    .dataframe thead th {\n",
       "        text-align: right;\n",
       "    }\n",
       "</style>\n",
       "<table border=\"1\" class=\"dataframe\">\n",
       "  <thead>\n",
       "    <tr style=\"text-align: right;\">\n",
       "      <th></th>\n",
       "      <th>Survived</th>\n",
       "      <th>Pclass</th>\n",
       "      <th>Age</th>\n",
       "      <th>SibSp</th>\n",
       "      <th>Parch</th>\n",
       "      <th>Fare</th>\n",
       "      <th>Cabin</th>\n",
       "      <th>Embarked</th>\n",
       "      <th>Name_title</th>\n",
       "      <th>Sex2</th>\n",
       "    </tr>\n",
       "  </thead>\n",
       "  <tbody>\n",
       "    <tr>\n",
       "      <th>0</th>\n",
       "      <td>0</td>\n",
       "      <td>3</td>\n",
       "      <td>22.0</td>\n",
       "      <td>1</td>\n",
       "      <td>0</td>\n",
       "      <td>7.2500</td>\n",
       "      <td>0</td>\n",
       "      <td>1</td>\n",
       "      <td>3</td>\n",
       "      <td>1</td>\n",
       "    </tr>\n",
       "    <tr>\n",
       "      <th>1</th>\n",
       "      <td>1</td>\n",
       "      <td>1</td>\n",
       "      <td>38.0</td>\n",
       "      <td>1</td>\n",
       "      <td>0</td>\n",
       "      <td>71.2833</td>\n",
       "      <td>3</td>\n",
       "      <td>2</td>\n",
       "      <td>4</td>\n",
       "      <td>0</td>\n",
       "    </tr>\n",
       "  </tbody>\n",
       "</table>\n",
       "</div>"
      ],
      "text/plain": [
       "   Survived  Pclass   Age  SibSp  Parch     Fare  Cabin  Embarked  Name_title  \\\n",
       "0         0       3  22.0      1      0   7.2500      0         1           3   \n",
       "1         1       1  38.0      1      0  71.2833      3         2           4   \n",
       "\n",
       "   Sex2  \n",
       "0     1  \n",
       "1     0  "
      ]
     },
     "execution_count": 218,
     "metadata": {},
     "output_type": "execute_result"
    }
   ],
   "source": [
    "col_list = ['PassengerId', 'Name', 'Ticket','Sex_female','Sex_male']\n",
    "train = train.drop(col_list, axis=1)\n",
    "train.head(2)   "
   ]
  },
  {
   "cell_type": "code",
   "execution_count": 219,
   "id": "e20f0330-bf30-46d6-ab00-e1b36298d9bb",
   "metadata": {},
   "outputs": [],
   "source": [
    "train = train.rename(columns={\"Sex2\":\"Sex\"})"
   ]
  },
  {
   "cell_type": "code",
   "execution_count": 220,
   "id": "a47732bd-d5ed-4409-b03e-e01bfec85efb",
   "metadata": {},
   "outputs": [
    {
     "data": {
      "text/html": [
       "<div>\n",
       "<style scoped>\n",
       "    .dataframe tbody tr th:only-of-type {\n",
       "        vertical-align: middle;\n",
       "    }\n",
       "\n",
       "    .dataframe tbody tr th {\n",
       "        vertical-align: top;\n",
       "    }\n",
       "\n",
       "    .dataframe thead th {\n",
       "        text-align: right;\n",
       "    }\n",
       "</style>\n",
       "<table border=\"1\" class=\"dataframe\">\n",
       "  <thead>\n",
       "    <tr style=\"text-align: right;\">\n",
       "      <th></th>\n",
       "      <th>Survived</th>\n",
       "      <th>Pclass</th>\n",
       "      <th>Age</th>\n",
       "      <th>SibSp</th>\n",
       "      <th>Parch</th>\n",
       "      <th>Fare</th>\n",
       "      <th>Cabin</th>\n",
       "      <th>Embarked</th>\n",
       "      <th>Name_title</th>\n",
       "      <th>Sex</th>\n",
       "    </tr>\n",
       "  </thead>\n",
       "  <tbody>\n",
       "    <tr>\n",
       "      <th>0</th>\n",
       "      <td>0</td>\n",
       "      <td>3</td>\n",
       "      <td>22.0</td>\n",
       "      <td>1</td>\n",
       "      <td>0</td>\n",
       "      <td>7.2500</td>\n",
       "      <td>0</td>\n",
       "      <td>1</td>\n",
       "      <td>3</td>\n",
       "      <td>1</td>\n",
       "    </tr>\n",
       "    <tr>\n",
       "      <th>1</th>\n",
       "      <td>1</td>\n",
       "      <td>1</td>\n",
       "      <td>38.0</td>\n",
       "      <td>1</td>\n",
       "      <td>0</td>\n",
       "      <td>71.2833</td>\n",
       "      <td>3</td>\n",
       "      <td>2</td>\n",
       "      <td>4</td>\n",
       "      <td>0</td>\n",
       "    </tr>\n",
       "  </tbody>\n",
       "</table>\n",
       "</div>"
      ],
      "text/plain": [
       "   Survived  Pclass   Age  SibSp  Parch     Fare  Cabin  Embarked  Name_title  \\\n",
       "0         0       3  22.0      1      0   7.2500      0         1           3   \n",
       "1         1       1  38.0      1      0  71.2833      3         2           4   \n",
       "\n",
       "   Sex  \n",
       "0    1  \n",
       "1    0  "
      ]
     },
     "execution_count": 220,
     "metadata": {},
     "output_type": "execute_result"
    }
   ],
   "source": [
    "train.head(2) "
   ]
  },
  {
   "cell_type": "markdown",
   "id": "96612041-4ffc-4ead-b136-df1824f1ce08",
   "metadata": {},
   "source": [
    "## 상관분석 : 피쳐별 영향도 분석\n",
    "* 피쳐간의 상관도(상관계수)가 높다 == 두 피쳐가 유사한 특징을 갖는다고 볼 수 있다.\n",
    "* 다중공선성 : 두 피쳐가 상관계수가 높은 것 --> 일반적으로 모델의 학습이 떨어진다."
   ]
  },
  {
   "cell_type": "markdown",
   "id": "94a60cf7-504a-40d7-99ca-132abfe876ec",
   "metadata": {},
   "source": [
    "<pre>\n",
    "±0.9이상             : 매우 높은 상관관계 → 다중공선성 문제\n",
    "±0.7이상 ~ ±0.9미만  : 높은 상관관계\n",
    "±0.4이상 ~ ±0.7미만  : 다소 높은 상관관계 → 0.7미만이면 다중공선성 안전\n",
    "±0.2이상 ~ ±0.4미만  : 낮은 상관관계\n",
    "±0.2미만             : 상관관계가 거의 없음\n",
    "(상관관계계수의 최댓값은 1이고 최솟값은 -1입니다. \n",
    " 상관관계계수가 1이라는 것은 그 둘이 같다는 것입니다.)"
   ]
  },
  {
   "cell_type": "code",
   "execution_count": 221,
   "id": "3cd4fddf-df06-4907-82c7-80e9b959cde8",
   "metadata": {},
   "outputs": [],
   "source": [
    "#! pip install seaborn"
   ]
  },
  {
   "cell_type": "code",
   "execution_count": 222,
   "id": "37960c1e-a837-4016-9ec1-187ec7207167",
   "metadata": {},
   "outputs": [],
   "source": [
    "import seaborn as sns"
   ]
  },
  {
   "cell_type": "code",
   "execution_count": 223,
   "id": "3dd92472-e520-4af8-ba42-d9df9144b50e",
   "metadata": {},
   "outputs": [
    {
     "data": {
      "text/plain": [
       "<AxesSubplot:>"
      ]
     },
     "execution_count": 223,
     "metadata": {},
     "output_type": "execute_result"
    },
    {
     "data": {
      "image/png": "[encoded data removed]",
      "text/plain": [
       "<Figure size 432x288 with 2 Axes>"
      ]
     },
     "metadata": {
      "needs_background": "light"
     },
     "output_type": "display_data"
    }
   ],
   "source": [
    "sns.heatmap(train.corr(), cmap='Blues' , annot=True, fmt=\".2f\")"
   ]
  },
  {
   "cell_type": "code",
   "execution_count": null,
   "id": "89a1fbe9-b0ba-426e-a6b5-4f31c8de908c",
   "metadata": {},
   "outputs": [],
   "source": []
  },
  {
   "cell_type": "markdown",
   "id": "2352ba5d-358d-4fb8-ba35-e7f302401c32",
   "metadata": {
    "tags": []
   },
   "source": [
    "### family = SibSp + Parch 파생변수\n",
    "<pre>\n",
    "1) train['family'] = SibSp(형제)  + Parch(부모자식) + 1\n",
    "\n",
    "2) alone == family와 상관도가 높은 관계로 만들지 않기로 결정\n",
    "   train['alone']  =  SibSp(형제)  + Parch(부모자식) ==> 혼자면1 아니면0\n",
    "  \n",
    "3) SibSp(형제)  + Parch(부모자식) drop\n",
    "\n"
   ]
  },
  {
   "cell_type": "code",
   "execution_count": 224,
   "id": "8c89bbd4-8efa-417d-83b8-0614e843d568",
   "metadata": {},
   "outputs": [
    {
     "data": {
      "text/html": [
       "<div>\n",
       "<style scoped>\n",
       "    .dataframe tbody tr th:only-of-type {\n",
       "        vertical-align: middle;\n",
       "    }\n",
       "\n",
       "    .dataframe tbody tr th {\n",
       "        vertical-align: top;\n",
       "    }\n",
       "\n",
       "    .dataframe thead th {\n",
       "        text-align: right;\n",
       "    }\n",
       "</style>\n",
       "<table border=\"1\" class=\"dataframe\">\n",
       "  <thead>\n",
       "    <tr style=\"text-align: right;\">\n",
       "      <th></th>\n",
       "      <th>SibSp</th>\n",
       "      <th>Parch</th>\n",
       "      <th>family</th>\n",
       "    </tr>\n",
       "  </thead>\n",
       "  <tbody>\n",
       "    <tr>\n",
       "      <th>0</th>\n",
       "      <td>1</td>\n",
       "      <td>0</td>\n",
       "      <td>2</td>\n",
       "    </tr>\n",
       "    <tr>\n",
       "      <th>1</th>\n",
       "      <td>1</td>\n",
       "      <td>0</td>\n",
       "      <td>2</td>\n",
       "    </tr>\n",
       "    <tr>\n",
       "      <th>2</th>\n",
       "      <td>0</td>\n",
       "      <td>0</td>\n",
       "      <td>1</td>\n",
       "    </tr>\n",
       "    <tr>\n",
       "      <th>3</th>\n",
       "      <td>1</td>\n",
       "      <td>0</td>\n",
       "      <td>2</td>\n",
       "    </tr>\n",
       "    <tr>\n",
       "      <th>4</th>\n",
       "      <td>0</td>\n",
       "      <td>0</td>\n",
       "      <td>1</td>\n",
       "    </tr>\n",
       "  </tbody>\n",
       "</table>\n",
       "</div>"
      ],
      "text/plain": [
       "   SibSp  Parch  family\n",
       "0      1      0       2\n",
       "1      1      0       2\n",
       "2      0      0       1\n",
       "3      1      0       2\n",
       "4      0      0       1"
      ]
     },
     "execution_count": 224,
     "metadata": {},
     "output_type": "execute_result"
    }
   ],
   "source": [
    "train['family'] = train['SibSp'] + train['Parch'] + 1\n",
    "train[['SibSp','Parch','family']].head()"
   ]
  },
  {
   "cell_type": "markdown",
   "id": "47bc4f61-a2da-44cd-b7dc-151b49175419",
   "metadata": {},
   "source": [
    "* 방법1) lambda 활용"
   ]
  },
  {
   "cell_type": "code",
   "execution_count": 225,
   "id": "b4b6ba4d-2d60-4f5d-a9b2-6c7133cd0e8b",
   "metadata": {},
   "outputs": [],
   "source": [
    "# # -------- 컬럼 하나에만 람다 적용하는 경우\n",
    "# # train['Age'] = train['Age'].apply(lambda x : 1 if x==20살 else 0) \n",
    "\n",
    "# # -------- 프레임 통째로 람다 적용하는 경우    , axis=1 추가\n",
    "# train['alone'] = train.apply(lambda x : 1 if x['SibSp'] + x['Parch'] == 0 else 0, axis=1)\n",
    "# train[['SibSp','Parch','family','alone']].head()"
   ]
  },
  {
   "cell_type": "markdown",
   "id": "e7e1a5c0-8f92-49ae-a342-80acb1ae884e",
   "metadata": {},
   "source": [
    "* 방법2) 컬럼+컬럼 연산"
   ]
  },
  {
   "cell_type": "code",
   "execution_count": 226,
   "id": "136f9b5d-fb78-45c3-8505-3f7c09c0e56a",
   "metadata": {},
   "outputs": [],
   "source": [
    "# train['alone']  =  train['SibSp'] + train['Parch'] == 0\n",
    "# train['alone']  = train['alone'].astype('int')\n",
    "# train[['SibSp','Parch','family','alone']].head()\n",
    "# # train.info()"
   ]
  },
  {
   "cell_type": "code",
   "execution_count": 227,
   "id": "219a3684-421b-4fc4-b275-d70fd31febc0",
   "metadata": {},
   "outputs": [
    {
     "data": {
      "text/html": [
       "<div>\n",
       "<style scoped>\n",
       "    .dataframe tbody tr th:only-of-type {\n",
       "        vertical-align: middle;\n",
       "    }\n",
       "\n",
       "    .dataframe tbody tr th {\n",
       "        vertical-align: top;\n",
       "    }\n",
       "\n",
       "    .dataframe thead th {\n",
       "        text-align: right;\n",
       "    }\n",
       "</style>\n",
       "<table border=\"1\" class=\"dataframe\">\n",
       "  <thead>\n",
       "    <tr style=\"text-align: right;\">\n",
       "      <th></th>\n",
       "      <th>Survived</th>\n",
       "      <th>Pclass</th>\n",
       "      <th>Age</th>\n",
       "      <th>Fare</th>\n",
       "      <th>Cabin</th>\n",
       "      <th>Embarked</th>\n",
       "      <th>Name_title</th>\n",
       "      <th>Sex</th>\n",
       "      <th>family</th>\n",
       "    </tr>\n",
       "  </thead>\n",
       "  <tbody>\n",
       "    <tr>\n",
       "      <th>0</th>\n",
       "      <td>0</td>\n",
       "      <td>3</td>\n",
       "      <td>22.0</td>\n",
       "      <td>7.2500</td>\n",
       "      <td>0</td>\n",
       "      <td>1</td>\n",
       "      <td>3</td>\n",
       "      <td>1</td>\n",
       "      <td>2</td>\n",
       "    </tr>\n",
       "    <tr>\n",
       "      <th>1</th>\n",
       "      <td>1</td>\n",
       "      <td>1</td>\n",
       "      <td>38.0</td>\n",
       "      <td>71.2833</td>\n",
       "      <td>3</td>\n",
       "      <td>2</td>\n",
       "      <td>4</td>\n",
       "      <td>0</td>\n",
       "      <td>2</td>\n",
       "    </tr>\n",
       "    <tr>\n",
       "      <th>2</th>\n",
       "      <td>1</td>\n",
       "      <td>3</td>\n",
       "      <td>26.0</td>\n",
       "      <td>7.9250</td>\n",
       "      <td>0</td>\n",
       "      <td>1</td>\n",
       "      <td>2</td>\n",
       "      <td>0</td>\n",
       "      <td>1</td>\n",
       "    </tr>\n",
       "    <tr>\n",
       "      <th>3</th>\n",
       "      <td>1</td>\n",
       "      <td>1</td>\n",
       "      <td>35.0</td>\n",
       "      <td>53.1000</td>\n",
       "      <td>3</td>\n",
       "      <td>1</td>\n",
       "      <td>4</td>\n",
       "      <td>0</td>\n",
       "      <td>2</td>\n",
       "    </tr>\n",
       "    <tr>\n",
       "      <th>4</th>\n",
       "      <td>0</td>\n",
       "      <td>3</td>\n",
       "      <td>35.0</td>\n",
       "      <td>8.0500</td>\n",
       "      <td>0</td>\n",
       "      <td>1</td>\n",
       "      <td>3</td>\n",
       "      <td>1</td>\n",
       "      <td>1</td>\n",
       "    </tr>\n",
       "  </tbody>\n",
       "</table>\n",
       "</div>"
      ],
      "text/plain": [
       "   Survived  Pclass   Age     Fare  Cabin  Embarked  Name_title  Sex  family\n",
       "0         0       3  22.0   7.2500      0         1           3    1       2\n",
       "1         1       1  38.0  71.2833      3         2           4    0       2\n",
       "2         1       3  26.0   7.9250      0         1           2    0       1\n",
       "3         1       1  35.0  53.1000      3         1           4    0       2\n",
       "4         0       3  35.0   8.0500      0         1           3    1       1"
      ]
     },
     "execution_count": 227,
     "metadata": {},
     "output_type": "execute_result"
    }
   ],
   "source": [
    "train = train.drop(['SibSp','Parch'], axis=1)\n",
    "train.head()"
   ]
  },
  {
   "cell_type": "markdown",
   "id": "91ddea1b-e58a-4c98-b86f-b256561cf459",
   "metadata": {
    "tags": []
   },
   "source": [
    "# 모델학습 & 평가"
   ]
  },
  {
   "cell_type": "markdown",
   "id": "320ed050-ce1b-4112-b16c-3ed30fb92961",
   "metadata": {},
   "source": [
    "<pre><b>\n",
    "지도학습   :   Supervised learning   : 분류(classsification), 회귀(regression)\n",
    "비지도학습 : Unsupervised learning   : 군집(clustering)\n"
   ]
  },
  {
   "cell_type": "markdown",
   "id": "9d459d20-9e38-44a6-97a0-bfee98e9092c",
   "metadata": {},
   "source": [
    "## 문제지 답안지 분리"
   ]
  },
  {
   "cell_type": "code",
   "execution_count": 228,
   "id": "6516e119-5d8e-421e-8d7d-a532685d959a",
   "metadata": {},
   "outputs": [],
   "source": [
    "y = train['Survived']\n",
    "X = train.drop(['Survived'], axis=1)\n",
    "# print(y[:3])\n",
    "# print(X.head())"
   ]
  },
  {
   "cell_type": "code",
   "execution_count": 229,
   "id": "814a6644-15c5-4e30-b344-852d419e1628",
   "metadata": {},
   "outputs": [
    {
     "name": "stdout",
     "output_type": "stream",
     "text": [
      "(712, 8) (179, 8) (712,) (179,)\n"
     ]
    }
   ],
   "source": [
    "X_train,X_test, y_train, y_test = train_test_split(X, y, \n",
    "                                                   test_size=0.2, \n",
    "                                                   random_state=1234,\n",
    "                                                   shuffle=True\n",
    "                                                   )\n",
    "print(X_train.shape, X_test.shape, y_train.shape, y_test.shape)"
   ]
  },
  {
   "cell_type": "markdown",
   "id": "7e7534e7-0360-4867-97db-a676afcfd9a5",
   "metadata": {},
   "source": [
    "## 모델 선정 & 학습 & 예측 & 평가"
   ]
  },
  {
   "cell_type": "code",
   "execution_count": 230,
   "id": "575f3caa-db13-495c-9052-615943af02ba",
   "metadata": {},
   "outputs": [
    {
     "name": "stdout",
     "output_type": "stream",
     "text": [
      "RandomForestClassifier \t\t 정확도:0.8324\n",
      "LogisticRegression \t\t 정확도:0.8380\n",
      "KNeighborsClassifier \t\t 정확도:0.7207\n",
      "DecisionTreeClassifier \t\t 정확도:0.8045\n",
      "LinearSVC \t\t 정확도:0.6201\n"
     ]
    }
   ],
   "source": [
    "model_list = [RandomForestClassifier(n_estimators=300, random_state=1234) ,\n",
    "              LogisticRegression(penalty=\"l2\", random_state=1234),\n",
    "              KNeighborsClassifier(),\n",
    "              DecisionTreeClassifier(),\n",
    "              LinearSVC()\n",
    "             ]\n",
    "# model = RandomForestClassifier()\n",
    "for model in model_list:\n",
    "    model.fit(X_train, y_train)  #---학습해라\n",
    "    내답안지 = model.predict(X_test)\n",
    "    acc_score = accuracy_score(y_test, 내답안지)\n",
    "    print(f\"{model.__class__.__name__} \\t\\t 정확도:{acc_score:.4f}\")\n"
   ]
  },
  {
   "cell_type": "markdown",
   "id": "ca1ca50a-0475-4809-ad90-9e7d04de45de",
   "metadata": {},
   "source": [
    "<pre>\n",
    "RandomForestClassifier정확도 : 0.810056\n",
    "LogisticRegression정확도 : 0.821229\n",
    "KNeighborsClassifier정확도 : 0.709497\n",
    "DecisionTreeClassifier정확도 : 0.793296\n",
    "LinearSVC정확도 : 0.759777\n",
    "-----------------------------------------------평균나이 , Name_title\n",
    "RandomForestClassifier \t\t 정확도:0.8268\n",
    "LogisticRegression \t\t 정확도:0.8492\n",
    "KNeighborsClassifier \t\t 정확도:0.7263\n",
    "DecisionTreeClassifier \t\t 정확도:0.7989\n",
    "LinearSVC \t\t 정확도:0.7430\n",
    "----------------------------------------------- alone family 파생변수 추가\n",
    "RandomForestClassifier \t\t 정확도:0.8268\n",
    "LogisticRegression \t\t 정확도:0.8324\n",
    "KNeighborsClassifier \t\t 정확도:0.7263\n",
    "DecisionTreeClassifier \t\t 정확도:0.7933\n",
    "LinearSVC \t\t 정확도:0.8101\n",
    "RandomForestClassifier정확도 : 0.81005\n",
    "----------------------------------------------- family 파생변수 추가\n",
    "RandomForestClassifier \t\t 정확도:0.8324\n",
    "LogisticRegression \t\t 정확도:0.8380\n",
    "KNeighborsClassifier \t\t 정확도:0.7207\n",
    "DecisionTreeClassifier \t\t 정확도:0.8045\n",
    "LinearSVC \t\t 정확도:0.6201\n"
   ]
  },
  {
   "cell_type": "code",
   "execution_count": null,
   "id": "cdde47c6-55a2-4c67-9e5d-ec39c625010b",
   "metadata": {},
   "outputs": [],
   "source": []
  },
  {
   "cell_type": "markdown",
   "id": "19f1ed75-1e42-48f3-857d-25b70ef3fe25",
   "metadata": {
    "tags": []
   },
   "source": [
    "# 모델튜닝 & 검증\n"
   ]
  },
  {
   "cell_type": "code",
   "execution_count": 231,
   "id": "ca571045-0394-4bad-99f7-429580d64dc3",
   "metadata": {},
   "outputs": [],
   "source": [
    "## 검증 + 통계"
   ]
  },
  {
   "cell_type": "code",
   "execution_count": 232,
   "id": "17037723-56b4-449f-9634-8b4ef10ed4f1",
   "metadata": {},
   "outputs": [],
   "source": [
    "## 가공, 모델, 데이터 증강\n",
    "## 모델튜닝 ... 도구"
   ]
  }
 ],
 "metadata": {
  "kernelspec": {
   "display_name": "Python 3 (ipykernel)",
   "language": "python",
   "name": "python3"
  },
  "language_info": {
   "codemirror_mode": {
    "name": "ipython",
    "version": 3
   },
   "file_extension": ".py",
   "mimetype": "text/x-python",
   "name": "python",
   "nbconvert_exporter": "python",
   "pygments_lexer": "ipython3",
   "version": "3.8.8"
  },
  "toc-autonumbering": true,
  "toc-showmarkdowntxt": true
 },
 "nbformat": 4,
 "nbformat_minor": 5
}
